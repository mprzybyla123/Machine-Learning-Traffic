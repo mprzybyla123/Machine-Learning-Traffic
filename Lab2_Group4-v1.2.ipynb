{
 "cells": [
  {
   "cell_type": "markdown",
   "metadata": {
    "slideshow": {
     "slide_type": "slide"
    }
   },
   "source": [
    "# Lab 2 - Classification \n",
    "\n",
    "## MSDS 7331-401\n",
    "\n",
    "#### Project Team:\n",
    "+ Peter Byrd \n",
    "+ Matthew Przybyla  \n",
    "+ David Tran\n",
    "+ Amber Whelpley\n",
    "\n",
    "# National Highway Traffic Safety Administration - 2015 Traffic Accidents\n",
    "\n"
   ]
  },
  {
   "cell_type": "code",
   "execution_count": 2,
   "metadata": {
    "scrolled": false
   },
   "outputs": [
    {
     "data": {
      "text/html": [
       "<div>\n",
       "<style>\n",
       "    .dataframe thead tr:only-child th {\n",
       "        text-align: right;\n",
       "    }\n",
       "\n",
       "    .dataframe thead th {\n",
       "        text-align: left;\n",
       "    }\n",
       "\n",
       "    .dataframe tbody tr th {\n",
       "        vertical-align: top;\n",
       "    }\n",
       "</style>\n",
       "<table border=\"1\" class=\"dataframe\">\n",
       "  <thead>\n",
       "    <tr style=\"text-align: right;\">\n",
       "      <th></th>\n",
       "      <th>STATE</th>\n",
       "      <th>ST_CASE</th>\n",
       "      <th>VE_TOTAL</th>\n",
       "      <th>VE_FORMS</th>\n",
       "      <th>PVH_INVL</th>\n",
       "      <th>PEDS</th>\n",
       "      <th>PERNOTMVIT</th>\n",
       "      <th>PERMVIT</th>\n",
       "      <th>PERSONS</th>\n",
       "      <th>COUNTY</th>\n",
       "      <th>...</th>\n",
       "      <th>NOT_MIN</th>\n",
       "      <th>ARR_HOUR</th>\n",
       "      <th>ARR_MIN</th>\n",
       "      <th>HOSP_HR</th>\n",
       "      <th>HOSP_MN</th>\n",
       "      <th>CF1</th>\n",
       "      <th>CF2</th>\n",
       "      <th>CF3</th>\n",
       "      <th>FATALS</th>\n",
       "      <th>DRUNK_DR</th>\n",
       "    </tr>\n",
       "  </thead>\n",
       "  <tbody>\n",
       "    <tr>\n",
       "      <th>0</th>\n",
       "      <td>1</td>\n",
       "      <td>10001</td>\n",
       "      <td>1</td>\n",
       "      <td>1</td>\n",
       "      <td>0</td>\n",
       "      <td>0</td>\n",
       "      <td>0</td>\n",
       "      <td>1</td>\n",
       "      <td>1</td>\n",
       "      <td>127</td>\n",
       "      <td>...</td>\n",
       "      <td>99</td>\n",
       "      <td>2</td>\n",
       "      <td>58</td>\n",
       "      <td>88</td>\n",
       "      <td>88</td>\n",
       "      <td>0</td>\n",
       "      <td>0</td>\n",
       "      <td>0</td>\n",
       "      <td>1</td>\n",
       "      <td>1</td>\n",
       "    </tr>\n",
       "    <tr>\n",
       "      <th>1</th>\n",
       "      <td>1</td>\n",
       "      <td>10002</td>\n",
       "      <td>1</td>\n",
       "      <td>1</td>\n",
       "      <td>0</td>\n",
       "      <td>0</td>\n",
       "      <td>0</td>\n",
       "      <td>1</td>\n",
       "      <td>1</td>\n",
       "      <td>83</td>\n",
       "      <td>...</td>\n",
       "      <td>99</td>\n",
       "      <td>22</td>\n",
       "      <td>20</td>\n",
       "      <td>88</td>\n",
       "      <td>88</td>\n",
       "      <td>0</td>\n",
       "      <td>0</td>\n",
       "      <td>0</td>\n",
       "      <td>1</td>\n",
       "      <td>0</td>\n",
       "    </tr>\n",
       "    <tr>\n",
       "      <th>2</th>\n",
       "      <td>1</td>\n",
       "      <td>10003</td>\n",
       "      <td>1</td>\n",
       "      <td>1</td>\n",
       "      <td>0</td>\n",
       "      <td>0</td>\n",
       "      <td>0</td>\n",
       "      <td>2</td>\n",
       "      <td>2</td>\n",
       "      <td>11</td>\n",
       "      <td>...</td>\n",
       "      <td>99</td>\n",
       "      <td>1</td>\n",
       "      <td>45</td>\n",
       "      <td>99</td>\n",
       "      <td>99</td>\n",
       "      <td>0</td>\n",
       "      <td>0</td>\n",
       "      <td>0</td>\n",
       "      <td>1</td>\n",
       "      <td>1</td>\n",
       "    </tr>\n",
       "    <tr>\n",
       "      <th>3</th>\n",
       "      <td>1</td>\n",
       "      <td>10004</td>\n",
       "      <td>1</td>\n",
       "      <td>1</td>\n",
       "      <td>0</td>\n",
       "      <td>0</td>\n",
       "      <td>0</td>\n",
       "      <td>1</td>\n",
       "      <td>1</td>\n",
       "      <td>45</td>\n",
       "      <td>...</td>\n",
       "      <td>99</td>\n",
       "      <td>1</td>\n",
       "      <td>15</td>\n",
       "      <td>88</td>\n",
       "      <td>88</td>\n",
       "      <td>0</td>\n",
       "      <td>0</td>\n",
       "      <td>0</td>\n",
       "      <td>1</td>\n",
       "      <td>1</td>\n",
       "    </tr>\n",
       "    <tr>\n",
       "      <th>4</th>\n",
       "      <td>1</td>\n",
       "      <td>10005</td>\n",
       "      <td>2</td>\n",
       "      <td>2</td>\n",
       "      <td>0</td>\n",
       "      <td>0</td>\n",
       "      <td>0</td>\n",
       "      <td>2</td>\n",
       "      <td>2</td>\n",
       "      <td>45</td>\n",
       "      <td>...</td>\n",
       "      <td>99</td>\n",
       "      <td>7</td>\n",
       "      <td>16</td>\n",
       "      <td>88</td>\n",
       "      <td>88</td>\n",
       "      <td>0</td>\n",
       "      <td>0</td>\n",
       "      <td>0</td>\n",
       "      <td>1</td>\n",
       "      <td>0</td>\n",
       "    </tr>\n",
       "  </tbody>\n",
       "</table>\n",
       "<p>5 rows × 52 columns</p>\n",
       "</div>"
      ],
      "text/plain": [
       "   STATE  ST_CASE  VE_TOTAL  VE_FORMS  PVH_INVL  PEDS  PERNOTMVIT  PERMVIT  \\\n",
       "0      1    10001         1         1         0     0           0        1   \n",
       "1      1    10002         1         1         0     0           0        1   \n",
       "2      1    10003         1         1         0     0           0        2   \n",
       "3      1    10004         1         1         0     0           0        1   \n",
       "4      1    10005         2         2         0     0           0        2   \n",
       "\n",
       "   PERSONS  COUNTY    ...     NOT_MIN  ARR_HOUR  ARR_MIN  HOSP_HR  HOSP_MN  \\\n",
       "0        1     127    ...          99         2       58       88       88   \n",
       "1        1      83    ...          99        22       20       88       88   \n",
       "2        2      11    ...          99         1       45       99       99   \n",
       "3        1      45    ...          99         1       15       88       88   \n",
       "4        2      45    ...          99         7       16       88       88   \n",
       "\n",
       "   CF1  CF2  CF3  FATALS  DRUNK_DR  \n",
       "0    0    0    0       1         1  \n",
       "1    0    0    0       1         0  \n",
       "2    0    0    0       1         1  \n",
       "3    0    0    0       1         1  \n",
       "4    0    0    0       1         0  \n",
       "\n",
       "[5 rows x 52 columns]"
      ]
     },
     "execution_count": 2,
     "metadata": {},
     "output_type": "execute_result"
    }
   ],
   "source": [
    "import pandas as pd\n",
    "import numpy as np\n",
    "import datetime\n",
    "from __future__ import print_function \n",
    "\n",
    "import warnings\n",
    "#warnings.simplefilter('ignore', DeprecationWarning)\n",
    "warnings.simplefilter('ignore')\n",
    "\n",
    "import seaborn as sns\n",
    "sns.set(style=\"white\", color_codes=True)\n",
    "import matplotlib.pyplot as plt\n",
    "\n",
    "from scipy import special \n",
    "\n",
    "\n",
    "#Read the Data\n",
    "df = pd.read_csv(\"/Users/pbyrd/Data/NHTSA/accident.csv\")\n",
    "\n",
    "#Review the data\n",
    "df.head()"
   ]
  },
  {
   "cell_type": "markdown",
   "metadata": {},
   "source": [
    "\n",
    "# Data Preparation\n",
    "\n",
    "The following section will clean up some issues in the data.  We will remove invalid Latitude and Longitude coordinates, simplify the time of the crash to a single time value, and replace the state codes with the actual names of the states.  We will also combine attributes for persons involved in the accident, and create a few one-hot encoded attributes from Rural/Urban and Workzone.\n",
    "\n",
    "New features were developed from the dataset.  The feature RUSH_HR was created to determine if rush hour traffic was a key factor in fatalities and collisions.  The feature lapseTime represents the time between the crash occuring and when EMS delivers the victim to the hospital, and could also be a factor in determining whether a fatality or collision occurred.\n",
    "\n",
    "New ordinal variables were also created for lighting condition and weather condition.  The original variables for lighting (LGT_COND) was reordered to represent a new ordinal variable (light) to scale from lightest to darkest conditions.  Similarly, the original variable for weather condition (WEATHER) was reordered to represent a new ordinal variable (weather) to scale from best to worst weather conditions.\n"
   ]
  },
  {
   "cell_type": "code",
   "execution_count": 3,
   "metadata": {
    "collapsed": true
   },
   "outputs": [],
   "source": [
    "# Missing Latitude and Longitude data\n",
    "\n",
    "# If 99.9999/88.8888/77.7777 and 999.9999/888.8888/777.7777 appear in the data we won't be able to graph them.\n",
    "# We will make them 0 and we can omit them when mapping.\n",
    "\n",
    "df['LATITUDE'] = df['LATITUDE'].replace(to_replace=99.9999,value=0) # replace unknown LATITUDE with 0 for mapping\n",
    "df['LATITUDE'] = df['LATITUDE'].replace(to_replace=88.8888,value=0) # replace not available LATITUDE with 0 for mapping\n",
    "df['LATITUDE'] = df['LATITUDE'].replace(to_replace=77.7777,value=0) # replace not reported LATITUDE with 0 for mapping\n",
    "\n",
    "df['LONGITUD'] = df['LONGITUD'].replace(to_replace=999.9999,value=0) # replace unknown LONGITUD with 0 for mapping\n",
    "df['LONGITUD'] = df['LONGITUD'].replace(to_replace=888.8888,value=0) # replace unknown LONGITUD with 0 for mapping\n",
    "df['LONGITUD'] = df['LONGITUD'].replace(to_replace=777.7777,value=0) # replace unknown LONGITUD with 0 for mapping\n"
   ]
  },
  {
   "cell_type": "code",
   "execution_count": 4,
   "metadata": {
    "collapsed": true
   },
   "outputs": [],
   "source": [
    "# Add attribute for total time lapse between Crash time and Hospital arrival time\n",
    "\n",
    "df['lapseTime'] = (df['HOSP_HR'] - df['HOUR'])*60 + (df['HOSP_MN'] - df['MINUTE'])\n",
    "df['lapseTime'] = (df['lapseTime'] < 1440) * df['lapseTime'] # Keep only lapseTime less than a day (1440 mins)\n",
    "df['lapseTime'] = (df['lapseTime'] > 0) * df['lapseTime']     # Remove lapseTime that are negative"
   ]
  },
  {
   "cell_type": "code",
   "execution_count": 5,
   "metadata": {
    "collapsed": true
   },
   "outputs": [],
   "source": [
    "# Naming the States \n",
    "# Reference: https://crashstats.nhtsa.dot.gov/Api/Public/ViewPublication/812315 - Page 93 \n",
    "\n",
    "states = {1: 'Alabama', 2: 'Alaska', 3: 'American Samoa', 4: 'Arizona', 5: 'Arkansas', \n",
    "          6: 'California', 8: 'Colorado', 9: 'Connecticut', 10: 'Delaware', 11: 'District of Columbia',\n",
    "          12: 'Florida', 13: 'Georgia',14: 'Guam', 15: 'Hawaii', \n",
    "          16: 'Idaho', 17: 'Illinois', 18: 'Indiana', 19: 'Iowa', 20: 'Kansas', \n",
    "          21: 'Kentucky', 22: 'Louisiana', 23: 'Maine', 24: 'Maryland', \n",
    "          25: 'Massachusetts', 26: 'Michigan', 27: 'Minnesota', \n",
    "          28: 'Mississippi', 29: 'Missouri', 30: 'Montana', 31: 'Nebraska', \n",
    "          32: 'Nevada', 33: 'New Hampshire', 34: 'New Jersey', 35: 'New Mexico', \n",
    "          36: 'New York', 37: 'North Carolina', 38: 'North Dakota', 39: 'Ohio', \n",
    "          40: 'Oklahoma', 41: 'Oregon', 42: 'Pennsylvania', 43: 'Puerto Rico', \n",
    "          44: 'Rhode Island', 45: 'South Carolina', 46: 'South Dakota', 47: 'Tennessee', \n",
    "          48: 'Texas', 49: 'Utah', 50: 'Vermont', 51: 'Virginia', 52: 'Virgin Islands', \n",
    "          53: 'Washington', 54: 'West Virginia', 55: 'Wisconsin', 56: 'Wyoming'}\n",
    "\n",
    "df['state']=df['STATE'].apply(lambda x: states[x])"
   ]
  },
  {
   "cell_type": "code",
   "execution_count": 6,
   "metadata": {
    "collapsed": true
   },
   "outputs": [],
   "source": [
    "# Lighting Condition\n",
    "\n",
    "# Order from best to worst lighting condition\n",
    "lighting = {0:1, 1:1, 2:4, 3:3, 4:2, 5:2, 6:5, 7:6, 8:6, 9:6}\n",
    "\n",
    "df['light']=df['LGT_COND'].apply(lambda x: lighting[x])"
   ]
  },
  {
   "cell_type": "code",
   "execution_count": 7,
   "metadata": {
    "collapsed": true
   },
   "outputs": [],
   "source": [
    "# Weather condition\n",
    "\n",
    "# Order from best to worst weather condition\n",
    "weathertype = {0:1, 1:1, 2:3, 3:5, 4:3, 5:4, 6:6, 7:6, 8:6, 9:6, 10:2 ,11:6 , 12:5, 98:7 , 99:7}\n",
    "\n",
    "# New order:\n",
    "#   No additional weather, Clear\n",
    "#   Cloudy\n",
    "#   Rain, Snow\n",
    "#   Fog\n",
    "#   Sleet/Hail, Freezing Rain\n",
    "#   Severe crosswinds, Blowing sand/soil, Blowing snow\n",
    "#   Not reported, Unknown\n",
    "\n",
    "df['weather']=df['WEATHER'].apply(lambda x: weathertype[x])"
   ]
  },
  {
   "cell_type": "code",
   "execution_count": 8,
   "metadata": {
    "collapsed": true
   },
   "outputs": [],
   "source": [
    "# Let's combine some attributes for easier interpretation:\n",
    "\n",
    "# Total number of persons involved in the accident\n",
    "df['TOT_PERS'] = df['PERMVIT'] + df['PERNOTMVIT'] + df['PEDS']\n",
    "\n",
    "# Let's create a binary attributes from some of our categorical variables \n",
    "df['FATALS'] = (df['FATALS'] > 1)*1     # 1 = multi-fatality, 0 = single-fatality\n",
    "df['WRK_ZONE'] = (df['WRK_ZONE']>0)*1   # 1 = workzone, 0 = not workzone\n",
    "df['RUR_URB'] = (df['RUR_URB']<2)*1     # 1 = urban, 0 = rural\n",
    "df['DRUNK'] = (df['DRUNK_DR']>0)*1      # 1 = drunk, 0 = not drunk\n",
    "df['NHS'] = (df['NHS']>0)*1             # 1 = national hwy, 0 = not on national hwy (assume not reported = 1 (4%))\n",
    "df['SP_JUR'] = (df['SP_JUR']>0)*1       # 1 = special jurisdiction, 0 = no special jurisdiction\n",
    "df['intersetion'] = (df['TYP_INT']>1)*1 # 1 = intersection, 0 = not an intersection\n",
    "df['collision'] = (df['MAN_COLL']>0)*1  # 1 = collision, 0 = no collision\n",
    "\n",
    "\n",
    "# Add new attribute of RUSH_HR (6am - 8:59am or 4pm - 6:59pm)\n",
    "tmp1 = df['HOUR'] > 5\n",
    "tmp2 = df['HOUR'] < 9\n",
    "tmp3 = df['HOUR'] > 15\n",
    "tmp4 = df['HOUR'] < 19\n",
    "df['RUSH_HR'] = (tmp1 * tmp2)*1 + (tmp3 * tmp4)*1\n"
   ]
  },
  {
   "cell_type": "code",
   "execution_count": 9,
   "metadata": {
    "scrolled": false
   },
   "outputs": [
    {
     "data": {
      "text/html": [
       "<div>\n",
       "<style>\n",
       "    .dataframe thead tr:only-child th {\n",
       "        text-align: right;\n",
       "    }\n",
       "\n",
       "    .dataframe thead th {\n",
       "        text-align: left;\n",
       "    }\n",
       "\n",
       "    .dataframe tbody tr th {\n",
       "        vertical-align: top;\n",
       "    }\n",
       "</style>\n",
       "<table border=\"1\" class=\"dataframe\">\n",
       "  <thead>\n",
       "    <tr style=\"text-align: right;\">\n",
       "      <th></th>\n",
       "      <th>VE_TOTAL</th>\n",
       "      <th>NHS</th>\n",
       "      <th>RUR_URB</th>\n",
       "      <th>ROUTE</th>\n",
       "      <th>LATITUDE</th>\n",
       "      <th>LONGITUD</th>\n",
       "      <th>SP_JUR</th>\n",
       "      <th>WRK_ZONE</th>\n",
       "      <th>SCH_BUS</th>\n",
       "      <th>FATALS</th>\n",
       "      <th>lapseTime</th>\n",
       "      <th>light</th>\n",
       "      <th>weather</th>\n",
       "      <th>TOT_PERS</th>\n",
       "      <th>DRUNK</th>\n",
       "      <th>intersetion</th>\n",
       "      <th>collision</th>\n",
       "      <th>RUSH_HR</th>\n",
       "    </tr>\n",
       "  </thead>\n",
       "  <tbody>\n",
       "    <tr>\n",
       "      <th>count</th>\n",
       "      <td>32166.000000</td>\n",
       "      <td>32166.000000</td>\n",
       "      <td>32166.000000</td>\n",
       "      <td>32166.000000</td>\n",
       "      <td>32166.000000</td>\n",
       "      <td>32166.000000</td>\n",
       "      <td>32166.000000</td>\n",
       "      <td>32166.000000</td>\n",
       "      <td>32166.000000</td>\n",
       "      <td>32166.000000</td>\n",
       "      <td>32166.000000</td>\n",
       "      <td>32166.000000</td>\n",
       "      <td>32166.000000</td>\n",
       "      <td>32166.000000</td>\n",
       "      <td>32166.000000</td>\n",
       "      <td>32166.000000</td>\n",
       "      <td>32166.000000</td>\n",
       "      <td>32166.000000</td>\n",
       "    </tr>\n",
       "    <tr>\n",
       "      <th>mean</th>\n",
       "      <td>1.556177</td>\n",
       "      <td>0.392744</td>\n",
       "      <td>0.475440</td>\n",
       "      <td>3.758472</td>\n",
       "      <td>36.380743</td>\n",
       "      <td>-91.516946</td>\n",
       "      <td>0.011005</td>\n",
       "      <td>0.019959</td>\n",
       "      <td>0.003295</td>\n",
       "      <td>0.073059</td>\n",
       "      <td>12.361064</td>\n",
       "      <td>2.316235</td>\n",
       "      <td>1.480849</td>\n",
       "      <td>2.720201</td>\n",
       "      <td>0.275508</td>\n",
       "      <td>0.243829</td>\n",
       "      <td>0.381925</td>\n",
       "      <td>0.265809</td>\n",
       "    </tr>\n",
       "    <tr>\n",
       "      <th>std</th>\n",
       "      <td>0.889722</td>\n",
       "      <td>0.488368</td>\n",
       "      <td>0.499404</td>\n",
       "      <td>2.056157</td>\n",
       "      <td>5.962369</td>\n",
       "      <td>16.525763</td>\n",
       "      <td>0.104329</td>\n",
       "      <td>0.139861</td>\n",
       "      <td>0.057312</td>\n",
       "      <td>0.260237</td>\n",
       "      <td>28.697905</td>\n",
       "      <td>1.356920</td>\n",
       "      <td>0.973833</td>\n",
       "      <td>2.011871</td>\n",
       "      <td>0.446777</td>\n",
       "      <td>0.429397</td>\n",
       "      <td>0.485866</td>\n",
       "      <td>0.441770</td>\n",
       "    </tr>\n",
       "    <tr>\n",
       "      <th>min</th>\n",
       "      <td>1.000000</td>\n",
       "      <td>0.000000</td>\n",
       "      <td>0.000000</td>\n",
       "      <td>1.000000</td>\n",
       "      <td>0.000000</td>\n",
       "      <td>-166.549556</td>\n",
       "      <td>0.000000</td>\n",
       "      <td>0.000000</td>\n",
       "      <td>0.000000</td>\n",
       "      <td>0.000000</td>\n",
       "      <td>0.000000</td>\n",
       "      <td>1.000000</td>\n",
       "      <td>1.000000</td>\n",
       "      <td>1.000000</td>\n",
       "      <td>0.000000</td>\n",
       "      <td>0.000000</td>\n",
       "      <td>0.000000</td>\n",
       "      <td>0.000000</td>\n",
       "    </tr>\n",
       "    <tr>\n",
       "      <th>25%</th>\n",
       "      <td>1.000000</td>\n",
       "      <td>0.000000</td>\n",
       "      <td>0.000000</td>\n",
       "      <td>2.000000</td>\n",
       "      <td>32.997464</td>\n",
       "      <td>-97.830091</td>\n",
       "      <td>0.000000</td>\n",
       "      <td>0.000000</td>\n",
       "      <td>0.000000</td>\n",
       "      <td>0.000000</td>\n",
       "      <td>0.000000</td>\n",
       "      <td>1.000000</td>\n",
       "      <td>1.000000</td>\n",
       "      <td>1.000000</td>\n",
       "      <td>0.000000</td>\n",
       "      <td>0.000000</td>\n",
       "      <td>0.000000</td>\n",
       "      <td>0.000000</td>\n",
       "    </tr>\n",
       "    <tr>\n",
       "      <th>50%</th>\n",
       "      <td>1.000000</td>\n",
       "      <td>0.000000</td>\n",
       "      <td>0.000000</td>\n",
       "      <td>3.000000</td>\n",
       "      <td>36.314125</td>\n",
       "      <td>-87.641267</td>\n",
       "      <td>0.000000</td>\n",
       "      <td>0.000000</td>\n",
       "      <td>0.000000</td>\n",
       "      <td>0.000000</td>\n",
       "      <td>0.000000</td>\n",
       "      <td>2.000000</td>\n",
       "      <td>1.000000</td>\n",
       "      <td>2.000000</td>\n",
       "      <td>0.000000</td>\n",
       "      <td>0.000000</td>\n",
       "      <td>0.000000</td>\n",
       "      <td>0.000000</td>\n",
       "    </tr>\n",
       "    <tr>\n",
       "      <th>75%</th>\n",
       "      <td>2.000000</td>\n",
       "      <td>1.000000</td>\n",
       "      <td>1.000000</td>\n",
       "      <td>6.000000</td>\n",
       "      <td>40.566313</td>\n",
       "      <td>-81.308249</td>\n",
       "      <td>0.000000</td>\n",
       "      <td>0.000000</td>\n",
       "      <td>0.000000</td>\n",
       "      <td>0.000000</td>\n",
       "      <td>0.000000</td>\n",
       "      <td>4.000000</td>\n",
       "      <td>2.000000</td>\n",
       "      <td>3.000000</td>\n",
       "      <td>1.000000</td>\n",
       "      <td>0.000000</td>\n",
       "      <td>1.000000</td>\n",
       "      <td>1.000000</td>\n",
       "    </tr>\n",
       "    <tr>\n",
       "      <th>max</th>\n",
       "      <td>58.000000</td>\n",
       "      <td>1.000000</td>\n",
       "      <td>1.000000</td>\n",
       "      <td>9.000000</td>\n",
       "      <td>65.176558</td>\n",
       "      <td>0.000000</td>\n",
       "      <td>1.000000</td>\n",
       "      <td>1.000000</td>\n",
       "      <td>1.000000</td>\n",
       "      <td>1.000000</td>\n",
       "      <td>1029.000000</td>\n",
       "      <td>6.000000</td>\n",
       "      <td>7.000000</td>\n",
       "      <td>93.000000</td>\n",
       "      <td>1.000000</td>\n",
       "      <td>1.000000</td>\n",
       "      <td>1.000000</td>\n",
       "      <td>1.000000</td>\n",
       "    </tr>\n",
       "  </tbody>\n",
       "</table>\n",
       "</div>"
      ],
      "text/plain": [
       "           VE_TOTAL           NHS       RUR_URB         ROUTE      LATITUDE  \\\n",
       "count  32166.000000  32166.000000  32166.000000  32166.000000  32166.000000   \n",
       "mean       1.556177      0.392744      0.475440      3.758472     36.380743   \n",
       "std        0.889722      0.488368      0.499404      2.056157      5.962369   \n",
       "min        1.000000      0.000000      0.000000      1.000000      0.000000   \n",
       "25%        1.000000      0.000000      0.000000      2.000000     32.997464   \n",
       "50%        1.000000      0.000000      0.000000      3.000000     36.314125   \n",
       "75%        2.000000      1.000000      1.000000      6.000000     40.566313   \n",
       "max       58.000000      1.000000      1.000000      9.000000     65.176558   \n",
       "\n",
       "           LONGITUD        SP_JUR      WRK_ZONE       SCH_BUS        FATALS  \\\n",
       "count  32166.000000  32166.000000  32166.000000  32166.000000  32166.000000   \n",
       "mean     -91.516946      0.011005      0.019959      0.003295      0.073059   \n",
       "std       16.525763      0.104329      0.139861      0.057312      0.260237   \n",
       "min     -166.549556      0.000000      0.000000      0.000000      0.000000   \n",
       "25%      -97.830091      0.000000      0.000000      0.000000      0.000000   \n",
       "50%      -87.641267      0.000000      0.000000      0.000000      0.000000   \n",
       "75%      -81.308249      0.000000      0.000000      0.000000      0.000000   \n",
       "max        0.000000      1.000000      1.000000      1.000000      1.000000   \n",
       "\n",
       "          lapseTime         light       weather      TOT_PERS         DRUNK  \\\n",
       "count  32166.000000  32166.000000  32166.000000  32166.000000  32166.000000   \n",
       "mean      12.361064      2.316235      1.480849      2.720201      0.275508   \n",
       "std       28.697905      1.356920      0.973833      2.011871      0.446777   \n",
       "min        0.000000      1.000000      1.000000      1.000000      0.000000   \n",
       "25%        0.000000      1.000000      1.000000      1.000000      0.000000   \n",
       "50%        0.000000      2.000000      1.000000      2.000000      0.000000   \n",
       "75%        0.000000      4.000000      2.000000      3.000000      1.000000   \n",
       "max     1029.000000      6.000000      7.000000     93.000000      1.000000   \n",
       "\n",
       "        intersetion     collision       RUSH_HR  \n",
       "count  32166.000000  32166.000000  32166.000000  \n",
       "mean       0.243829      0.381925      0.265809  \n",
       "std        0.429397      0.485866      0.441770  \n",
       "min        0.000000      0.000000      0.000000  \n",
       "25%        0.000000      0.000000      0.000000  \n",
       "50%        0.000000      0.000000      0.000000  \n",
       "75%        0.000000      1.000000      1.000000  \n",
       "max        1.000000      1.000000      1.000000  "
      ]
     },
     "execution_count": 9,
     "metadata": {},
     "output_type": "execute_result"
    }
   ],
   "source": [
    "# Remove non-helpful and duplicate attributes \n",
    "# Correlation matrix was used to determine attributes with limited correlation to FATALS\n",
    "# Some categorical/coded variables were removed\n",
    "\n",
    "excludeFields = ['ST_CASE','VE_CASE','VE_FORMS','PEDS','PERNOTMVIT','PERMVIT','PERSONS','DAY','MONTH',\n",
    "                 'YEAR','HOUR','MINUTE','PVH_INVL','FUNC-SYS','RD_OWNER','TWAY_ID','CITY','COUNTY','TYP_INT',\n",
    "                 'TWAY_ID2','MILEPT','RELJCT1','RELJCT2', 'REL_ROAD','LGT_COND','FUNC_SYS','DAY_WEEK',\n",
    "                 'RAIL','NOT_HOUR','NOT_MIN','ARR_HOUR','ARR_MIN','HOSP_HR','HOSP_MN','STATE','DRUNK_DR','CF1','CF2','CF3',\n",
    "                 'state','WEATHER','WEATHER1','WEATHER2','HARM_EV','MAN_COLL']\n",
    "\n",
    "keepFields = [col for col in df.columns if col not in excludeFields]\n",
    "\n",
    "df = df[keepFields]\n",
    "\n",
    "#df.head(20)\n",
    "df.describe()"
   ]
  },
  {
   "cell_type": "markdown",
   "metadata": {},
   "source": [
    "### Review Feature Correlations\n",
    "\n",
    "To easily identify and remove highly correlated features that may impact our analysis, a correlation heatmap was used."
   ]
  },
  {
   "cell_type": "code",
   "execution_count": 10,
   "metadata": {},
   "outputs": [
    {
     "data": {
      "text/plain": [
       "<matplotlib.axes._subplots.AxesSubplot at 0x107be0978>"
      ]
     },
     "execution_count": 10,
     "metadata": {},
     "output_type": "execute_result"
    },
    {
     "data": {
      "image/png": "[encoded data removed]",
      "text/plain": [
       "<matplotlib.figure.Figure at 0x107be0668>"
      ]
     },
     "metadata": {},
     "output_type": "display_data"
    }
   ],
   "source": [
    "%matplotlib inline\n",
    "\n",
    "# Compute the correlation matrix\n",
    "corr = df.corr()\n",
    "\n",
    "# Generate a mask for the upper triangle\n",
    "mask = np.zeros_like(corr, dtype=np.bool)\n",
    "mask[np.triu_indices_from(mask)] = True\n",
    "\n",
    "# Set up the matplotlib figure\n",
    "f, ax = plt.subplots(figsize=(27, 27))\n",
    "\n",
    "# Generate a custom diverging colormap\n",
    "cmap = sns.diverging_palette(220, 15, as_cmap=True)\n",
    "\n",
    "# Draw the heatmap with the mask and correct aspect ratio\n",
    "sns.heatmap(corr, mask=mask, cmap=cmap, vmax=1.0, center=0,\n",
    "            square=True, linewidths=.2, cbar_kws={\"shrink\": .5})\n"
   ]
  },
  {
   "cell_type": "markdown",
   "metadata": {},
   "source": [
    "**Remove VE_TOTAL**    \n",
    "From the coorelation plot, we see that total vehicles (VE_TOTAL) is highly coorelated with collisions (collision) and total persons (TOT_PERS).  We will remove VE_TOTAL from the dataset before performing further analysis."
   ]
  },
  {
   "cell_type": "code",
   "execution_count": 11,
   "metadata": {},
   "outputs": [
    {
     "name": "stdout",
     "output_type": "stream",
     "text": [
      "<class 'pandas.core.frame.DataFrame'>\n",
      "RangeIndex: 32166 entries, 0 to 32165\n",
      "Data columns (total 18 columns):\n",
      "VE_TOTAL       32166 non-null int64\n",
      "NHS            32166 non-null int64\n",
      "RUR_URB        32166 non-null int64\n",
      "ROUTE          32166 non-null int64\n",
      "LATITUDE       32166 non-null float64\n",
      "LONGITUD       32166 non-null float64\n",
      "SP_JUR         32166 non-null int64\n",
      "WRK_ZONE       32166 non-null int64\n",
      "SCH_BUS        32166 non-null int64\n",
      "FATALS         32166 non-null int64\n",
      "lapseTime      32166 non-null int64\n",
      "light          32166 non-null int64\n",
      "weather        32166 non-null int64\n",
      "TOT_PERS       32166 non-null int64\n",
      "DRUNK          32166 non-null int64\n",
      "intersetion    32166 non-null int64\n",
      "collision      32166 non-null int64\n",
      "RUSH_HR        32166 non-null int64\n",
      "dtypes: float64(2), int64(16)\n",
      "memory usage: 4.4 MB\n",
      "*********************************************\n",
      "<class 'pandas.core.frame.DataFrame'>\n",
      "RangeIndex: 32166 entries, 0 to 32165\n",
      "Data columns (total 17 columns):\n",
      "NHS            32166 non-null int64\n",
      "RUR_URB        32166 non-null int64\n",
      "ROUTE          32166 non-null int64\n",
      "LATITUDE       32166 non-null float64\n",
      "LONGITUD       32166 non-null float64\n",
      "SP_JUR         32166 non-null int64\n",
      "WRK_ZONE       32166 non-null int64\n",
      "SCH_BUS        32166 non-null int64\n",
      "FATALS         32166 non-null int64\n",
      "lapseTime      32166 non-null int64\n",
      "light          32166 non-null int64\n",
      "weather        32166 non-null int64\n",
      "TOT_PERS       32166 non-null int64\n",
      "DRUNK          32166 non-null int64\n",
      "intersetion    32166 non-null int64\n",
      "collision      32166 non-null int64\n",
      "RUSH_HR        32166 non-null int64\n",
      "dtypes: float64(2), int64(15)\n",
      "memory usage: 4.2 MB\n"
     ]
    }
   ],
   "source": [
    "#Drop highly coorelated attributes (VE_TOTAL) \n",
    "df.info()\n",
    "\n",
    "# Drop the highly correlated features from our training data \n",
    "df = df.drop('VE_TOTAL', axis=1)\n",
    "\n",
    "#Check columns after drop \n",
    "print('*********************************************')\n",
    "df.info()"
   ]
  },
  {
   "cell_type": "markdown",
   "metadata": {},
   "source": [
    "# MODELING and EVALUATION\n",
    "\n",
    "## PART 1\n",
    "\n",
    "## Classification of Single or Multi fatality accidents\n",
    "\n",
    "**We will attempt to classify accidents as single-fatality or multiple-fatality accidents**    \n",
    "Using logistic regression, K-nearest neighbor, and Gaussian and Bernoulli Naive Bayes models we will attempt to classify the accidents in our dataset as to whether they result in single or multiple fatalities.  For each of these models, a grid search will be used to assist in determining the most useful combination of parameters.  Model parameters are adjusted during the grid search using the **accuracy** measurement.\n",
    "\n",
    "The intended metrics which we will use to compare models are **accuracy, precision, and recall**. Accuracy gives us a good measure of True Positives (i.e. a prediction of a single-fatality accident is indeed a single-fatality accident) and True Negatives (i.e. prediction of a multi-fatality accident is indeed a multi-fatality accident). However, accuracy ignores misclassification and as such is somewhat misleading in that it predicts single fatalities because our data is skewed that way. \n",
    "\n",
    "Precision penalizes the models for prediction of False Positives (i.e. prediction of a single-fatality accident when it is actually a multi-fatality accident) and good precision will lower the False Positive rate. Recall penalizes for predicting False Negatives (i.e. prediction of a multi-fatality accident when it is actually a single-fatality accident) and good recall will lower the false negatives.\n",
    "\n",
    "Since the data is extremely skewed toward single-fatality accidents (29,816 single-fatality accidents as opposed to 2,350 multi-fatality accidents), a stratified shuffle split and 10-fold cross validation. is used with these models. The stratified split will help to ensure that all of our CV folds include a suficient number of multi-fatality accidents.\n",
    "\n",
    "### Training and Test Split"
   ]
  },
  {
   "cell_type": "code",
   "execution_count": 12,
   "metadata": {},
   "outputs": [
    {
     "name": "stdout",
     "output_type": "stream",
     "text": [
      "TRAIN: [10298  5849 31914 ..., 20998 23514 25284] TEST: [24083 18290 22859 ...,  2985 27413 30793]\n",
      "TRAIN: [30676 18003  4719 ..., 27331  6887 10484] TEST: [30366 28359 31188 ..., 18144  7503  3832]\n",
      "TRAIN: [13093 25004  5248 ..., 31979  3633   727] TEST: [18406 30199 15903 ...,  4773   471  4010]\n",
      "TRAIN: [23085  8303 15777 ..., 28228  4285 22270] TEST: [28514 14170 27636 ...,  8921 19538 17703]\n",
      "TRAIN: [ 4470 12124 21060 ..., 23906 31242 24530] TEST: [17446 11745  6398 ...,  7863 23098 29513]\n",
      "TRAIN: [ 7866 12266 28123 ..., 30791 10688  1084] TEST: [25118  2128 18871 ..., 13902  3298  4021]\n",
      "TRAIN: [  535  4134 16879 ..., 20316  6519 12527] TEST: [ 3760 14866 28046 ..., 27412 15246 21368]\n",
      "TRAIN: [26890 18413 11015 ..., 29263 11478 23031] TEST: [ 1108 30148 12863 ...,  8787 14100 16968]\n",
      "TRAIN: [29338  2207 25476 ...,  2255 25229 26899] TEST: [ 3931 10260   907 ..., 16498 21240 24071]\n",
      "TRAIN: [28931 24414  8858 ...,  6894 19560  8011] TEST: [25119 16889  5543 ..., 22444 23503 11618]\n",
      "StratifiedShuffleSplit(n_splits=10, random_state=1, test_size=0.2,\n",
      "            train_size=0.8)\n",
      "FATALS\n",
      "0    29816\n",
      "1     2350\n",
      "Name: FATALS, dtype: int64\n"
     ]
    }
   ],
   "source": [
    "# Training and Testing Split 80/20 with 10-fold cross validation\n",
    "\n",
    "from sklearn.model_selection import StratifiedShuffleSplit\n",
    "\n",
    "df_fatals = df\n",
    "\n",
    "# create x explanatory and y response variable for regression\n",
    "y_fatals_df = df_fatals['FATALS']\n",
    "x_fatals_df = df_fatals.drop(['FATALS'],axis=1)\n",
    "y_fatals = df_fatals['FATALS'].values\n",
    "x_fatals = df_fatals.drop(['FATALS'],axis=1).values\n",
    "\n",
    "cv_fatals = StratifiedShuffleSplit(n_splits=10,\n",
    "                         test_size  = 0.2, train_size = 0.8, random_state=1)\n",
    "\n",
    "cv_fatals.get_n_splits(x_fatals,y_fatals)\n",
    "\n",
    "for train_index, test_index in cv_fatals.split(x_fatals,y_fatals):\n",
    "    print(\"TRAIN:\", train_index, \"TEST:\", test_index)\n",
    "    x_fatals_train, x_fatals_test = x_fatals[train_index], x_fatals[test_index]\n",
    "    y_fatals_train, y_fatals_test = y_fatals[train_index], y_fatals[test_index]\n",
    "   \n",
    "print(cv_fatals)\n",
    "\n",
    "# We will try to classify if an accident is a single-fatality or multiple-fatality accident\n",
    "df_fatals = df_fatals.groupby(by='FATALS')\n",
    "print (df_fatals.FATALS.count())"
   ]
  },
  {
   "cell_type": "markdown",
   "metadata": {},
   "source": [
    "### Classifier Evaluation"
   ]
  },
  {
   "cell_type": "code",
   "execution_count": 13,
   "metadata": {
    "collapsed": true
   },
   "outputs": [],
   "source": [
    "#Classifier Evaluation\n",
    "#We will use this evaluation criteria to compare models\n",
    "from sklearn.model_selection import cross_validate\n",
    "\n",
    "def EvaluateClassifierEstimator(classifierEstimator, x, y, cv):\n",
    "   \n",
    "    #Perform cross validation \n",
    "    scores = cross_validate(classifierEstimator, x, y, scoring=['accuracy','precision','recall']\n",
    "                            , cv=cv, return_train_score=True)\n",
    "\n",
    "    Accavg = scores['test_accuracy'].mean()\n",
    "    Preavg = scores['test_precision'].mean()\n",
    "    Recavg = scores['test_recall'].mean()\n",
    "\n",
    "    print_str = \"The average accuracy for all cv folds is: \\t\\t\\t {Accavg:.5}\"\n",
    "    print_str2 = \"The average precision for all cv folds is: \\t\\t\\t {Preavg:.5}\"\n",
    "    print_str3 = \"The average recall for all cv folds is: \\t\\t\\t {Recavg:.5}\"\n",
    "\n",
    "    print(print_str.format(Accavg=Accavg))\n",
    "    print(print_str2.format(Preavg=Preavg))\n",
    "    print(print_str3.format(Recavg=Recavg))\n",
    "    print('*********************************************************')\n",
    "\n",
    "    print('Cross Validation Fold Mean Error Scores')\n",
    "    scoresResults = pd.DataFrame()\n",
    "    scoresResults['Accuracy'] = scores['test_accuracy']\n",
    "    scoresResults['Precision'] = scores['test_precision']\n",
    "    scoresResults['Recall'] = scores['test_recall']\n",
    "\n",
    "    return scoresResults"
   ]
  },
  {
   "cell_type": "markdown",
   "metadata": {},
   "source": [
    "### Logistic Regression"
   ]
  },
  {
   "cell_type": "code",
   "execution_count": 14,
   "metadata": {},
   "outputs": [
    {
     "name": "stdout",
     "output_type": "stream",
     "text": [
      "Fitting 10 folds for each of 24 candidates, totalling 240 fits\n"
     ]
    },
    {
     "name": "stderr",
     "output_type": "stream",
     "text": [
      "[Parallel(n_jobs=8)]: Done  34 tasks      | elapsed:    5.3s\n",
      "[Parallel(n_jobs=8)]: Done 184 tasks      | elapsed:   38.9s\n",
      "[Parallel(n_jobs=8)]: Done 240 out of 240 | elapsed:   53.4s finished\n"
     ]
    },
    {
     "data": {
      "text/plain": [
       "GridSearchCV(cv=StratifiedShuffleSplit(n_splits=10, random_state=1, test_size=0.2,\n",
       "            train_size=0.8),\n",
       "       error_score='raise',\n",
       "       estimator=LogisticRegression(C=1.0, class_weight=None, dual=False, fit_intercept=True,\n",
       "          intercept_scaling=1, max_iter=100, multi_class='ovr', n_jobs=1,\n",
       "          penalty='l2', random_state=None, solver='liblinear', tol=0.0001,\n",
       "          verbose=0, warm_start=False),\n",
       "       fit_params=None, iid=True, n_jobs=8,\n",
       "       param_grid={'penalty': ['l2'], 'C': [0.001, 0.01, 0.1, 1, 10, 100], 'class_weight': ['balanced', 'none'], 'random_state': [0], 'solver': ['lbfgs'], 'max_iter': [100, 500]},\n",
       "       pre_dispatch='2*n_jobs', refit=True, return_train_score='warn',\n",
       "       scoring='accuracy', verbose=1)"
      ]
     },
     "execution_count": 14,
     "metadata": {},
     "output_type": "execute_result"
    }
   ],
   "source": [
    "#Logisitic regression 10-fold cross-validation \n",
    "from sklearn.linear_model import LogisticRegression\n",
    "Estimator = LogisticRegression()\n",
    "\n",
    "parameters = { 'penalty':['l2']\n",
    "              ,'C': [0.001, 0.01, 0.1, 1, 10, 100]\n",
    "              ,'class_weight': ['balanced','none']\n",
    "              ,'random_state': [0]\n",
    "              ,'solver': ['lbfgs']\n",
    "              ,'max_iter':[100,500]\n",
    "             }\n",
    "\n",
    "#Create a grid search object \n",
    "from sklearn.model_selection import GridSearchCV\n",
    "regGridSearch = GridSearchCV(estimator=Estimator\n",
    "                   , n_jobs=8 # jobs to run in parallel\n",
    "                   , verbose=1 # low verbosity\n",
    "                   , param_grid=parameters\n",
    "                   , cv=cv_fatals # KFolds = 10\n",
    "                   , scoring='accuracy')\n",
    "\n",
    "#Perform hyperparameter search to find the best combination of parameters for our data\n",
    "regGridSearch.fit(x_fatals, y_fatals)"
   ]
  },
  {
   "cell_type": "code",
   "execution_count": 15,
   "metadata": {},
   "outputs": [
    {
     "data": {
      "text/plain": [
       "LogisticRegression(C=0.001, class_weight='none', dual=False,\n",
       "          fit_intercept=True, intercept_scaling=1, max_iter=100,\n",
       "          multi_class='ovr', n_jobs=1, penalty='l2', random_state=0,\n",
       "          solver='lbfgs', tol=0.0001, verbose=0, warm_start=False)"
      ]
     },
     "execution_count": 15,
     "metadata": {},
     "output_type": "execute_result"
    }
   ],
   "source": [
    "#Display the best estimator parameters\n",
    "LR_best_estimator = regGridSearch.best_estimator_\n",
    "LR_best_estimator"
   ]
  },
  {
   "cell_type": "code",
   "execution_count": 16,
   "metadata": {},
   "outputs": [
    {
     "name": "stdout",
     "output_type": "stream",
     "text": [
      "The average accuracy for all cv folds is: \t\t\t 0.92639\n",
      "The average precision for all cv folds is: \t\t\t 0.39521\n",
      "The average recall for all cv folds is: \t\t\t 0.01383\n",
      "*********************************************************\n",
      "Cross Validation Fold Mean Error Scores\n"
     ]
    },
    {
     "data": {
      "text/html": [
       "<div>\n",
       "<style>\n",
       "    .dataframe thead tr:only-child th {\n",
       "        text-align: right;\n",
       "    }\n",
       "\n",
       "    .dataframe thead th {\n",
       "        text-align: left;\n",
       "    }\n",
       "\n",
       "    .dataframe tbody tr th {\n",
       "        vertical-align: top;\n",
       "    }\n",
       "</style>\n",
       "<table border=\"1\" class=\"dataframe\">\n",
       "  <thead>\n",
       "    <tr style=\"text-align: right;\">\n",
       "      <th></th>\n",
       "      <th>Accuracy</th>\n",
       "      <th>Precision</th>\n",
       "      <th>Recall</th>\n",
       "    </tr>\n",
       "  </thead>\n",
       "  <tbody>\n",
       "    <tr>\n",
       "      <th>0</th>\n",
       "      <td>0.926484</td>\n",
       "      <td>0.411765</td>\n",
       "      <td>0.014894</td>\n",
       "    </tr>\n",
       "    <tr>\n",
       "      <th>1</th>\n",
       "      <td>0.926640</td>\n",
       "      <td>0.450000</td>\n",
       "      <td>0.019149</td>\n",
       "    </tr>\n",
       "    <tr>\n",
       "      <th>2</th>\n",
       "      <td>0.926173</td>\n",
       "      <td>0.352941</td>\n",
       "      <td>0.012766</td>\n",
       "    </tr>\n",
       "    <tr>\n",
       "      <th>3</th>\n",
       "      <td>0.926018</td>\n",
       "      <td>0.375000</td>\n",
       "      <td>0.019149</td>\n",
       "    </tr>\n",
       "    <tr>\n",
       "      <th>4</th>\n",
       "      <td>0.926484</td>\n",
       "      <td>0.411765</td>\n",
       "      <td>0.014894</td>\n",
       "    </tr>\n",
       "    <tr>\n",
       "      <th>5</th>\n",
       "      <td>0.925707</td>\n",
       "      <td>0.277778</td>\n",
       "      <td>0.010638</td>\n",
       "    </tr>\n",
       "    <tr>\n",
       "      <th>6</th>\n",
       "      <td>0.926640</td>\n",
       "      <td>0.416667</td>\n",
       "      <td>0.010638</td>\n",
       "    </tr>\n",
       "    <tr>\n",
       "      <th>7</th>\n",
       "      <td>0.926484</td>\n",
       "      <td>0.400000</td>\n",
       "      <td>0.012766</td>\n",
       "    </tr>\n",
       "    <tr>\n",
       "      <th>8</th>\n",
       "      <td>0.926795</td>\n",
       "      <td>0.444444</td>\n",
       "      <td>0.008511</td>\n",
       "    </tr>\n",
       "    <tr>\n",
       "      <th>9</th>\n",
       "      <td>0.926484</td>\n",
       "      <td>0.411765</td>\n",
       "      <td>0.014894</td>\n",
       "    </tr>\n",
       "  </tbody>\n",
       "</table>\n",
       "</div>"
      ],
      "text/plain": [
       "   Accuracy  Precision    Recall\n",
       "0  0.926484   0.411765  0.014894\n",
       "1  0.926640   0.450000  0.019149\n",
       "2  0.926173   0.352941  0.012766\n",
       "3  0.926018   0.375000  0.019149\n",
       "4  0.926484   0.411765  0.014894\n",
       "5  0.925707   0.277778  0.010638\n",
       "6  0.926640   0.416667  0.010638\n",
       "7  0.926484   0.400000  0.012766\n",
       "8  0.926795   0.444444  0.008511\n",
       "9  0.926484   0.411765  0.014894"
      ]
     },
     "execution_count": 16,
     "metadata": {},
     "output_type": "execute_result"
    }
   ],
   "source": [
    "#Evaluate the regression estimator above using our pre-defined cross validation and scoring metrics. \n",
    "EvaluateClassifierEstimator(LR_best_estimator, x_fatals, y_fatals, cv_fatals)"
   ]
  },
  {
   "cell_type": "code",
   "execution_count": 40,
   "metadata": {
    "collapsed": true
   },
   "outputs": [],
   "source": [
    "#Store scores for model comparison\n",
    "scores = cross_validate(LR_best_estimator, x_fatals, y_fatals, scoring=['accuracy','precision','recall']\n",
    "                            , cv=cv_fatals, return_train_score=True)\n",
    "acc_lr = scores['test_accuracy']\n",
    "pre_lr = scores['test_precision']\n",
    "rec_lr = scores['test_recall']"
   ]
  },
  {
   "cell_type": "markdown",
   "metadata": {},
   "source": [
    "### K-Nearest Neighbor"
   ]
  },
  {
   "cell_type": "code",
   "execution_count": 26,
   "metadata": {
    "scrolled": false
   },
   "outputs": [
    {
     "name": "stdout",
     "output_type": "stream",
     "text": [
      "Fitting 10 folds for each of 40 candidates, totalling 400 fits\n"
     ]
    },
    {
     "name": "stderr",
     "output_type": "stream",
     "text": [
      "[Parallel(n_jobs=8)]: Done  34 tasks      | elapsed:   52.3s\n",
      "[Parallel(n_jobs=8)]: Done 184 tasks      | elapsed:  3.6min\n",
      "[Parallel(n_jobs=8)]: Done 400 out of 400 | elapsed:  8.4min finished\n"
     ]
    },
    {
     "data": {
      "text/plain": [
       "GridSearchCV(cv=StratifiedShuffleSplit(n_splits=10, random_state=1, test_size=0.2,\n",
       "            train_size=0.8),\n",
       "       error_score='raise',\n",
       "       estimator=KNeighborsClassifier(algorithm='auto', leaf_size=30, metric='minkowski',\n",
       "           metric_params=None, n_jobs=1, n_neighbors=5, p=2,\n",
       "           weights='uniform'),\n",
       "       fit_params=None, iid=True, n_jobs=8,\n",
       "       param_grid={'n_neighbors': [10, 11, 12, 13, 14], 'weights': ['uniform', 'distance'], 'algorithm': ['auto'], 'leaf_size': [10, 30], 'p': [1, 2]},\n",
       "       pre_dispatch='2*n_jobs', refit=True, return_train_score='warn',\n",
       "       scoring='accuracy', verbose=1)"
      ]
     },
     "execution_count": 26,
     "metadata": {},
     "output_type": "execute_result"
    }
   ],
   "source": [
    "#KNN 10-fold cross-validation (this takes about 8 minutes to run)\n",
    "from sklearn.neighbors import KNeighborsClassifier\n",
    "Estimator = KNeighborsClassifier()\n",
    "\n",
    "parameters = { 'n_neighbors':[10,11,12,13,14],\n",
    "               'weights':['uniform','distance'],\n",
    "               'algorithm':['auto'],\n",
    "               'leaf_size':[10,30],\n",
    "               'p':[1,2]                 # p=1:manhattan, p=2:euclidean\n",
    "             }\n",
    "\n",
    "#Create a grid search object  \n",
    "from sklearn.model_selection import GridSearchCV\n",
    "regGridSearch = GridSearchCV(estimator=Estimator\n",
    "                   , n_jobs=8 # jobs to run in parallel\n",
    "                   , verbose=1 # low verbosity\n",
    "                   , param_grid=parameters\n",
    "                   , cv=cv_fatals # KFolds = 10\n",
    "                   , scoring='accuracy')\n",
    "\n",
    "#Perform hyperparameter search to find the best combination of parameters for our data\n",
    "regGridSearch.fit(x_fatals, y_fatals)"
   ]
  },
  {
   "cell_type": "code",
   "execution_count": 27,
   "metadata": {
    "scrolled": true
   },
   "outputs": [
    {
     "data": {
      "text/plain": [
       "KNeighborsClassifier(algorithm='auto', leaf_size=10, metric='minkowski',\n",
       "           metric_params=None, n_jobs=1, n_neighbors=12, p=2,\n",
       "           weights='uniform')"
      ]
     },
     "execution_count": 27,
     "metadata": {},
     "output_type": "execute_result"
    }
   ],
   "source": [
    "#Display the best estimator parameters\n",
    "KNN_best_estimator = regGridSearch.best_estimator_\n",
    "KNN_best_estimator"
   ]
  },
  {
   "cell_type": "code",
   "execution_count": 28,
   "metadata": {
    "scrolled": false
   },
   "outputs": [
    {
     "name": "stdout",
     "output_type": "stream",
     "text": [
      "The average accuracy for all cv folds is: \t\t\t 0.92694\n",
      "The average precision for all cv folds is: \t\t\t 0.51294\n",
      "The average recall for all cv folds is: \t\t\t 0.0046809\n",
      "*********************************************************\n",
      "Cross Validation Fold Mean Error Scores\n"
     ]
    },
    {
     "data": {
      "text/html": [
       "<div>\n",
       "<style>\n",
       "    .dataframe thead tr:only-child th {\n",
       "        text-align: right;\n",
       "    }\n",
       "\n",
       "    .dataframe thead th {\n",
       "        text-align: left;\n",
       "    }\n",
       "\n",
       "    .dataframe tbody tr th {\n",
       "        vertical-align: top;\n",
       "    }\n",
       "</style>\n",
       "<table border=\"1\" class=\"dataframe\">\n",
       "  <thead>\n",
       "    <tr style=\"text-align: right;\">\n",
       "      <th></th>\n",
       "      <th>Accuracy</th>\n",
       "      <th>Precision</th>\n",
       "      <th>Recall</th>\n",
       "    </tr>\n",
       "  </thead>\n",
       "  <tbody>\n",
       "    <tr>\n",
       "      <th>0</th>\n",
       "      <td>0.927106</td>\n",
       "      <td>0.666667</td>\n",
       "      <td>0.004255</td>\n",
       "    </tr>\n",
       "    <tr>\n",
       "      <th>1</th>\n",
       "      <td>0.927261</td>\n",
       "      <td>0.750000</td>\n",
       "      <td>0.006383</td>\n",
       "    </tr>\n",
       "    <tr>\n",
       "      <th>2</th>\n",
       "      <td>0.926795</td>\n",
       "      <td>0.000000</td>\n",
       "      <td>0.000000</td>\n",
       "    </tr>\n",
       "    <tr>\n",
       "      <th>3</th>\n",
       "      <td>0.927417</td>\n",
       "      <td>0.800000</td>\n",
       "      <td>0.008511</td>\n",
       "    </tr>\n",
       "    <tr>\n",
       "      <th>4</th>\n",
       "      <td>0.926795</td>\n",
       "      <td>0.333333</td>\n",
       "      <td>0.002128</td>\n",
       "    </tr>\n",
       "    <tr>\n",
       "      <th>5</th>\n",
       "      <td>0.926173</td>\n",
       "      <td>0.222222</td>\n",
       "      <td>0.004255</td>\n",
       "    </tr>\n",
       "    <tr>\n",
       "      <th>6</th>\n",
       "      <td>0.926795</td>\n",
       "      <td>0.428571</td>\n",
       "      <td>0.006383</td>\n",
       "    </tr>\n",
       "    <tr>\n",
       "      <th>7</th>\n",
       "      <td>0.927261</td>\n",
       "      <td>1.000000</td>\n",
       "      <td>0.004255</td>\n",
       "    </tr>\n",
       "    <tr>\n",
       "      <th>8</th>\n",
       "      <td>0.926795</td>\n",
       "      <td>0.428571</td>\n",
       "      <td>0.006383</td>\n",
       "    </tr>\n",
       "    <tr>\n",
       "      <th>9</th>\n",
       "      <td>0.926951</td>\n",
       "      <td>0.500000</td>\n",
       "      <td>0.004255</td>\n",
       "    </tr>\n",
       "  </tbody>\n",
       "</table>\n",
       "</div>"
      ],
      "text/plain": [
       "   Accuracy  Precision    Recall\n",
       "0  0.927106   0.666667  0.004255\n",
       "1  0.927261   0.750000  0.006383\n",
       "2  0.926795   0.000000  0.000000\n",
       "3  0.927417   0.800000  0.008511\n",
       "4  0.926795   0.333333  0.002128\n",
       "5  0.926173   0.222222  0.004255\n",
       "6  0.926795   0.428571  0.006383\n",
       "7  0.927261   1.000000  0.004255\n",
       "8  0.926795   0.428571  0.006383\n",
       "9  0.926951   0.500000  0.004255"
      ]
     },
     "execution_count": 28,
     "metadata": {},
     "output_type": "execute_result"
    }
   ],
   "source": [
    "#Evaluate the regression estimator above using our pre-defined cross validation and scoring metrics. \n",
    "EvaluateClassifierEstimator(KNN_best_estimator, x_fatals, y_fatals, cv_fatals)"
   ]
  },
  {
   "cell_type": "code",
   "execution_count": 41,
   "metadata": {
    "collapsed": true
   },
   "outputs": [],
   "source": [
    "#Store scores for model comparison\n",
    "scores = cross_validate(KNN_best_estimator, x_fatals, y_fatals, scoring=['accuracy','precision','recall']\n",
    "                            , cv=cv_fatals, return_train_score=True)\n",
    "acc_knn = scores['test_accuracy']\n",
    "pre_knn = scores['test_precision']\n",
    "rec_knn = scores['test_recall']"
   ]
  },
  {
   "cell_type": "markdown",
   "metadata": {},
   "source": [
    "### Gaussian Naive Bayes"
   ]
  },
  {
   "cell_type": "code",
   "execution_count": 30,
   "metadata": {},
   "outputs": [
    {
     "name": "stdout",
     "output_type": "stream",
     "text": [
      "Fitting 10 folds for each of 1 candidates, totalling 10 fits\n"
     ]
    },
    {
     "name": "stderr",
     "output_type": "stream",
     "text": [
      "[Parallel(n_jobs=8)]: Done   6 out of  10 | elapsed:    0.1s remaining:    0.1s\n",
      "[Parallel(n_jobs=8)]: Done  10 out of  10 | elapsed:    0.2s finished\n"
     ]
    },
    {
     "data": {
      "text/plain": [
       "GridSearchCV(cv=StratifiedShuffleSplit(n_splits=10, random_state=1, test_size=0.2,\n",
       "            train_size=0.8),\n",
       "       error_score='raise', estimator=GaussianNB(priors=None),\n",
       "       fit_params=None, iid=True, n_jobs=8, param_grid={'priors': [None]},\n",
       "       pre_dispatch='2*n_jobs', refit=True, return_train_score='warn',\n",
       "       scoring='accuracy', verbose=1)"
      ]
     },
     "execution_count": 30,
     "metadata": {},
     "output_type": "execute_result"
    }
   ],
   "source": [
    "#Naive Bayes Gaussian 10-fold cross-validation \n",
    "from sklearn.naive_bayes import GaussianNB\n",
    "Estimator = GaussianNB()\n",
    "\n",
    "parameters = { 'priors':[None]\n",
    "             }\n",
    "\n",
    "#Create a grid search object \n",
    "from sklearn.model_selection import GridSearchCV\n",
    "regGridSearch = GridSearchCV(estimator=Estimator\n",
    "                   , n_jobs=8 # jobs to run in parallel\n",
    "                   , verbose=1 # low verbosity\n",
    "                   , param_grid=parameters\n",
    "                   , cv=cv_fatals # KFolds = 10\n",
    "                   , scoring='accuracy')\n",
    "\n",
    "#Perform hyperparameter search to find the best combination of parameters for our data\n",
    "regGridSearch.fit(x_fatals, y_fatals)"
   ]
  },
  {
   "cell_type": "code",
   "execution_count": 31,
   "metadata": {},
   "outputs": [
    {
     "data": {
      "text/plain": [
       "GaussianNB(priors=None)"
      ]
     },
     "execution_count": 31,
     "metadata": {},
     "output_type": "execute_result"
    }
   ],
   "source": [
    "#Display the best estimator parameters\n",
    "GNB_best_estimator = regGridSearch.best_estimator_\n",
    "GNB_best_estimator"
   ]
  },
  {
   "cell_type": "code",
   "execution_count": 32,
   "metadata": {},
   "outputs": [
    {
     "name": "stdout",
     "output_type": "stream",
     "text": [
      "The average accuracy for all cv folds is: \t\t\t 0.90431\n",
      "The average precision for all cv folds is: \t\t\t 0.20491\n",
      "The average recall for all cv folds is: \t\t\t 0.10723\n",
      "*********************************************************\n",
      "Cross Validation Fold Mean Error Scores\n"
     ]
    },
    {
     "data": {
      "text/html": [
       "<div>\n",
       "<style>\n",
       "    .dataframe thead tr:only-child th {\n",
       "        text-align: right;\n",
       "    }\n",
       "\n",
       "    .dataframe thead th {\n",
       "        text-align: left;\n",
       "    }\n",
       "\n",
       "    .dataframe tbody tr th {\n",
       "        vertical-align: top;\n",
       "    }\n",
       "</style>\n",
       "<table border=\"1\" class=\"dataframe\">\n",
       "  <thead>\n",
       "    <tr style=\"text-align: right;\">\n",
       "      <th></th>\n",
       "      <th>Accuracy</th>\n",
       "      <th>Precision</th>\n",
       "      <th>Recall</th>\n",
       "    </tr>\n",
       "  </thead>\n",
       "  <tbody>\n",
       "    <tr>\n",
       "      <th>0</th>\n",
       "      <td>0.907367</td>\n",
       "      <td>0.218750</td>\n",
       "      <td>0.104255</td>\n",
       "    </tr>\n",
       "    <tr>\n",
       "      <th>1</th>\n",
       "      <td>0.902704</td>\n",
       "      <td>0.188000</td>\n",
       "      <td>0.100000</td>\n",
       "    </tr>\n",
       "    <tr>\n",
       "      <th>2</th>\n",
       "      <td>0.903637</td>\n",
       "      <td>0.202381</td>\n",
       "      <td>0.108511</td>\n",
       "    </tr>\n",
       "    <tr>\n",
       "      <th>3</th>\n",
       "      <td>0.904725</td>\n",
       "      <td>0.238095</td>\n",
       "      <td>0.138298</td>\n",
       "    </tr>\n",
       "    <tr>\n",
       "      <th>4</th>\n",
       "      <td>0.906124</td>\n",
       "      <td>0.208696</td>\n",
       "      <td>0.102128</td>\n",
       "    </tr>\n",
       "    <tr>\n",
       "      <th>5</th>\n",
       "      <td>0.899130</td>\n",
       "      <td>0.169742</td>\n",
       "      <td>0.097872</td>\n",
       "    </tr>\n",
       "    <tr>\n",
       "      <th>6</th>\n",
       "      <td>0.904880</td>\n",
       "      <td>0.204167</td>\n",
       "      <td>0.104255</td>\n",
       "    </tr>\n",
       "    <tr>\n",
       "      <th>7</th>\n",
       "      <td>0.905191</td>\n",
       "      <td>0.210744</td>\n",
       "      <td>0.108511</td>\n",
       "    </tr>\n",
       "    <tr>\n",
       "      <th>8</th>\n",
       "      <td>0.907678</td>\n",
       "      <td>0.225664</td>\n",
       "      <td>0.108511</td>\n",
       "    </tr>\n",
       "    <tr>\n",
       "      <th>9</th>\n",
       "      <td>0.901616</td>\n",
       "      <td>0.182879</td>\n",
       "      <td>0.100000</td>\n",
       "    </tr>\n",
       "  </tbody>\n",
       "</table>\n",
       "</div>"
      ],
      "text/plain": [
       "   Accuracy  Precision    Recall\n",
       "0  0.907367   0.218750  0.104255\n",
       "1  0.902704   0.188000  0.100000\n",
       "2  0.903637   0.202381  0.108511\n",
       "3  0.904725   0.238095  0.138298\n",
       "4  0.906124   0.208696  0.102128\n",
       "5  0.899130   0.169742  0.097872\n",
       "6  0.904880   0.204167  0.104255\n",
       "7  0.905191   0.210744  0.108511\n",
       "8  0.907678   0.225664  0.108511\n",
       "9  0.901616   0.182879  0.100000"
      ]
     },
     "execution_count": 32,
     "metadata": {},
     "output_type": "execute_result"
    }
   ],
   "source": [
    "#Evaluate the regression estimator above using our pre-defined cross validation and scoring metrics. \n",
    "EvaluateClassifierEstimator(GNB_best_estimator, x_fatals, y_fatals, cv_fatals)"
   ]
  },
  {
   "cell_type": "code",
   "execution_count": 42,
   "metadata": {
    "collapsed": true
   },
   "outputs": [],
   "source": [
    "#Store scores for model comparison\n",
    "scores = cross_validate(GNB_best_estimator, x_fatals, y_fatals, scoring=['accuracy','precision','recall']\n",
    "                            , cv=cv_fatals, return_train_score=True)\n",
    "acc_gnb = scores['test_accuracy']\n",
    "pre_gnb = scores['test_precision']\n",
    "rec_gnb = scores['test_recall']"
   ]
  },
  {
   "cell_type": "markdown",
   "metadata": {},
   "source": [
    "### Bernoulli Naive Bayes"
   ]
  },
  {
   "cell_type": "code",
   "execution_count": 35,
   "metadata": {},
   "outputs": [
    {
     "name": "stdout",
     "output_type": "stream",
     "text": [
      "Fitting 10 folds for each of 40 candidates, totalling 400 fits\n"
     ]
    },
    {
     "name": "stderr",
     "output_type": "stream",
     "text": [
      "[Parallel(n_jobs=8)]: Done  88 tasks      | elapsed:    1.1s\n",
      "[Parallel(n_jobs=8)]: Done 400 out of 400 | elapsed:    4.0s finished\n"
     ]
    },
    {
     "data": {
      "text/plain": [
       "GridSearchCV(cv=StratifiedShuffleSplit(n_splits=10, random_state=1, test_size=0.2,\n",
       "            train_size=0.8),\n",
       "       error_score='raise',\n",
       "       estimator=BernoulliNB(alpha=1.0, binarize=0.0, class_prior=None, fit_prior=True),\n",
       "       fit_params=None, iid=True, n_jobs=8,\n",
       "       param_grid={'alpha': [0.001, 0.01, 1, 10], 'binarize': [0, 0.1, 0.2, 0.5, 1], 'fit_prior': [True, False]},\n",
       "       pre_dispatch='2*n_jobs', refit=True, return_train_score='warn',\n",
       "       scoring='accuracy', verbose=1)"
      ]
     },
     "execution_count": 35,
     "metadata": {},
     "output_type": "execute_result"
    }
   ],
   "source": [
    "#Naive Bayes Bernoulli 10-fold cross-validation \n",
    "from sklearn.naive_bayes import BernoulliNB\n",
    "Estimator = BernoulliNB()\n",
    "\n",
    "parameters = { 'alpha':[.001,.01,1,10],\n",
    "               'binarize':[0, 0.1, 0.2, 0.5, 1],\n",
    "               'fit_prior':[True,False]\n",
    "             }\n",
    "\n",
    "#Create a grid search object\n",
    "from sklearn.model_selection import GridSearchCV\n",
    "regGridSearch = GridSearchCV(estimator=Estimator\n",
    "                   , n_jobs=8 # jobs to run in parallel\n",
    "                   , verbose=1 # low verbosity\n",
    "                   , param_grid=parameters\n",
    "                   , cv=cv_fatals # KFolds = 10\n",
    "                   , scoring='accuracy')\n",
    "\n",
    "#Perform hyperparameter search to find the best combination of parameters for our data\n",
    "regGridSearch.fit(x_fatals, y_fatals)\n"
   ]
  },
  {
   "cell_type": "code",
   "execution_count": 36,
   "metadata": {},
   "outputs": [
    {
     "data": {
      "text/plain": [
       "BernoulliNB(alpha=0.001, binarize=0, class_prior=None, fit_prior=True)"
      ]
     },
     "execution_count": 36,
     "metadata": {},
     "output_type": "execute_result"
    }
   ],
   "source": [
    "#Display the best estimator parameters\n",
    "BNB_best_estimator = regGridSearch.best_estimator_\n",
    "BNB_best_estimator"
   ]
  },
  {
   "cell_type": "code",
   "execution_count": 37,
   "metadata": {},
   "outputs": [
    {
     "name": "stdout",
     "output_type": "stream",
     "text": [
      "The average accuracy for all cv folds is: \t\t\t 0.92695\n",
      "The average precision for all cv folds is: \t\t\t 0.0\n",
      "The average recall for all cv folds is: \t\t\t 0.0\n",
      "*********************************************************\n",
      "Cross Validation Fold Mean Error Scores\n"
     ]
    },
    {
     "data": {
      "text/html": [
       "<div>\n",
       "<style>\n",
       "    .dataframe thead tr:only-child th {\n",
       "        text-align: right;\n",
       "    }\n",
       "\n",
       "    .dataframe thead th {\n",
       "        text-align: left;\n",
       "    }\n",
       "\n",
       "    .dataframe tbody tr th {\n",
       "        vertical-align: top;\n",
       "    }\n",
       "</style>\n",
       "<table border=\"1\" class=\"dataframe\">\n",
       "  <thead>\n",
       "    <tr style=\"text-align: right;\">\n",
       "      <th></th>\n",
       "      <th>Accuracy</th>\n",
       "      <th>Precision</th>\n",
       "      <th>Recall</th>\n",
       "    </tr>\n",
       "  </thead>\n",
       "  <tbody>\n",
       "    <tr>\n",
       "      <th>0</th>\n",
       "      <td>0.926951</td>\n",
       "      <td>0.0</td>\n",
       "      <td>0.0</td>\n",
       "    </tr>\n",
       "    <tr>\n",
       "      <th>1</th>\n",
       "      <td>0.926951</td>\n",
       "      <td>0.0</td>\n",
       "      <td>0.0</td>\n",
       "    </tr>\n",
       "    <tr>\n",
       "      <th>2</th>\n",
       "      <td>0.926951</td>\n",
       "      <td>0.0</td>\n",
       "      <td>0.0</td>\n",
       "    </tr>\n",
       "    <tr>\n",
       "      <th>3</th>\n",
       "      <td>0.926951</td>\n",
       "      <td>0.0</td>\n",
       "      <td>0.0</td>\n",
       "    </tr>\n",
       "    <tr>\n",
       "      <th>4</th>\n",
       "      <td>0.926951</td>\n",
       "      <td>0.0</td>\n",
       "      <td>0.0</td>\n",
       "    </tr>\n",
       "    <tr>\n",
       "      <th>5</th>\n",
       "      <td>0.926951</td>\n",
       "      <td>0.0</td>\n",
       "      <td>0.0</td>\n",
       "    </tr>\n",
       "    <tr>\n",
       "      <th>6</th>\n",
       "      <td>0.926951</td>\n",
       "      <td>0.0</td>\n",
       "      <td>0.0</td>\n",
       "    </tr>\n",
       "    <tr>\n",
       "      <th>7</th>\n",
       "      <td>0.926951</td>\n",
       "      <td>0.0</td>\n",
       "      <td>0.0</td>\n",
       "    </tr>\n",
       "    <tr>\n",
       "      <th>8</th>\n",
       "      <td>0.926951</td>\n",
       "      <td>0.0</td>\n",
       "      <td>0.0</td>\n",
       "    </tr>\n",
       "    <tr>\n",
       "      <th>9</th>\n",
       "      <td>0.926951</td>\n",
       "      <td>0.0</td>\n",
       "      <td>0.0</td>\n",
       "    </tr>\n",
       "  </tbody>\n",
       "</table>\n",
       "</div>"
      ],
      "text/plain": [
       "   Accuracy  Precision  Recall\n",
       "0  0.926951        0.0     0.0\n",
       "1  0.926951        0.0     0.0\n",
       "2  0.926951        0.0     0.0\n",
       "3  0.926951        0.0     0.0\n",
       "4  0.926951        0.0     0.0\n",
       "5  0.926951        0.0     0.0\n",
       "6  0.926951        0.0     0.0\n",
       "7  0.926951        0.0     0.0\n",
       "8  0.926951        0.0     0.0\n",
       "9  0.926951        0.0     0.0"
      ]
     },
     "execution_count": 37,
     "metadata": {},
     "output_type": "execute_result"
    }
   ],
   "source": [
    "#Evaluate the regression estimator above using our pre-defined cross validation and scoring metrics. \n",
    "EvaluateClassifierEstimator(BNB_best_estimator, x_fatals, y_fatals, cv_fatals)"
   ]
  },
  {
   "cell_type": "code",
   "execution_count": 43,
   "metadata": {
    "collapsed": true
   },
   "outputs": [],
   "source": [
    "#Store scores for model comparison\n",
    "scores = cross_validate(BNB_best_estimator, x_fatals, y_fatals, scoring=['accuracy','precision','recall']\n",
    "                            , cv=cv_fatals, return_train_score=True)\n",
    "acc_bnb = scores['test_accuracy']\n",
    "pre_bnb = scores['test_precision']\n",
    "rec_bnb = scores['test_recall']"
   ]
  },
  {
   "cell_type": "markdown",
   "metadata": {},
   "source": [
    "## Model Advantages and Comparison\n",
    "\n",
    "**Logistic Regression Model**       \n",
    "The average accuracy for all cv folds is: \t\t\t 0.92639    \n",
    "The average precision for all cv folds is: \t\t\t 0.39521    \n",
    "The average recall for all cv folds is: \t\t\t 0.01383    \n",
    "\n",
    "**KNN Model**        \n",
    "The average accuracy for all cv folds is: \t\t\t 0.92694    \n",
    "The average precision for all cv folds is: \t\t\t 0.51294    \n",
    "The average recall for all cv folds is: \t\t\t 0.0046809    \n",
    "\n",
    "**GaussianNB Model**        \n",
    "The average accuracy for all cv folds is: \t\t\t 0.90431    \n",
    "The average precision for all cv folds is: \t\t\t 0.20491    \n",
    "The average recall for all cv folds is: \t\t\t 0.10723    \n",
    "\n",
    "**BernoulliNB Model**        \n",
    "The average accuracy for all cv folds is: \t\t\t 0.92695    \n",
    "The average precision for all cv folds is: \t\t\t 0.0    \n",
    "The average recall for all cv folds is: \t\t\t 0.0    \n",
    "\n",
    "The BernoulliNB model only predicts single-fatality accidents, and as such is not useful for our analysis.  \n",
    "\n",
    "The remaining models--logistic regression, KNN, and Gaussian NB--each have poor recall. \n",
    "\n",
    "The **best model appears to be the Gaussian NB model**. While this model does not have quite as high accuracy (90.4% as compared to approximately 92.6% for KNN and logistic regression), the accuracy is still fairly close and, more importantly, Gaussian NB has the highest recall of any model. Due to the fact that our classification task is centered around the goal of saving human life, the ability to correctly identify relevant cases is a priority. Although the recall is only 0.11, it is still much higher than logistic regression's recall of 0.01 and KNN's of 0.005.\n",
    "\n",
    "From a computational standpoint, the Logistic Regression model takes a while to run, and the KNN model is extremely computational intensive and time consuming.  Even with a limited neighbor list, it required over 8 minutes to run.  Another advantage to the GaussianNB is the speed at which it performs, and gives us another reason for choosing this model."
   ]
  },
  {
   "cell_type": "code",
   "execution_count": 44,
   "metadata": {},
   "outputs": [
    {
     "name": "stdout",
     "output_type": "stream",
     "text": [
      "95% Confidence interval for LogRegression: 0.926197420658 0.926584674462\n",
      "95% Confidence interval for KNN: 0.926726409999 0.927143655279\n",
      "95% Confidence interval for GaussianNB: 0.902757286892 0.905853219791\n",
      "95% Confidence interval for BernoulliNB: 0.92695057507 0.92695057507\n"
     ]
    }
   ],
   "source": [
    "# Confidence Intervals for each model accuracy\n",
    "mean_lr = np.mean(acc_lr)\n",
    "z_lr = 1.96 * np.std(acc_lr)/ np.sqrt(10)\n",
    "print ('95% Confidence interval for LogRegression:', mean_lr - z_lr, mean_lr + z_lr)\n",
    "\n",
    "mean_knn = np.mean(acc_knn)\n",
    "z_knn = 1.96 * np.std(acc_knn)/ np.sqrt(10)\n",
    "print ('95% Confidence interval for KNN:', mean_knn - z_knn, mean_knn + z_knn)\n",
    "\n",
    "mean_gnb = np.mean(acc_gnb)\n",
    "z_gnb = 1.96 * np.std(acc_gnb)/ np.sqrt(10)\n",
    "print ('95% Confidence interval for GaussianNB:', mean_gnb - z_gnb, mean_gnb + z_gnb)\n",
    "\n",
    "mean_bnb = np.mean(acc_bnb)\n",
    "z_bnb = 1.96 * np.std(acc_bnb)/ np.sqrt(10)\n",
    "print ('95% Confidence interval for BernoulliNB:', mean_bnb - z_bnb, mean_bnb + z_bnb)"
   ]
  },
  {
   "cell_type": "markdown",
   "metadata": {},
   "source": [
    "The 95% confidence intervals overlap for LogRegression and KNN, and they are therefore not significantly different.  Confidence intervals for BernoulliNB are the best, but this model doesn't predict anything other than single fatality, and is therefore not useful.  "
   ]
  },
  {
   "cell_type": "code",
   "execution_count": 46,
   "metadata": {},
   "outputs": [
    {
     "name": "stdout",
     "output_type": "stream",
     "text": [
      "95% Confidence interval for LogRegression recall: 0.011765637226 0.0158939372421\n",
      "95% Confidence interval for KNN recall: 0.00326052777544 0.00610117435222\n",
      "95% Confidence interval for GaussianNB recall: 0.100427519439 0.114040565667\n",
      "95% Confidence interval for BernoulliNB recall: 0.0 0.0\n"
     ]
    }
   ],
   "source": [
    "# Confidence Intervals for each model recall\n",
    "mean_lr = np.mean(rec_lr)\n",
    "z_lr = 1.96 * np.std(rec_lr)/ np.sqrt(10)\n",
    "print ('95% Confidence interval for LogRegression recall:', mean_lr - z_lr, mean_lr + z_lr)\n",
    "\n",
    "mean_knn = np.mean(rec_knn)\n",
    "z_knn = 1.96 * np.std(rec_knn)/ np.sqrt(10)\n",
    "print ('95% Confidence interval for KNN recall:', mean_knn - z_knn, mean_knn + z_knn)\n",
    "\n",
    "mean_gnb = np.mean(rec_gnb)\n",
    "z_gnb = 1.96 * np.std(rec_gnb)/ np.sqrt(10)\n",
    "print ('95% Confidence interval for GaussianNB recall:', mean_gnb - z_gnb, mean_gnb + z_gnb)\n",
    "\n",
    "mean_bnb = np.mean(rec_bnb)\n",
    "z_bnb = 1.96 * np.std(rec_bnb)/ np.sqrt(10)\n",
    "print ('95% Confidence interval for BernoulliNB recall:', mean_bnb - z_bnb, mean_bnb + z_bnb)"
   ]
  },
  {
   "cell_type": "markdown",
   "metadata": {},
   "source": [
    "None of the 95% confidence intervals for recall overlap, and therefore each is significantly different.  GaussianNB has the best recall of all the models."
   ]
  },
  {
   "cell_type": "markdown",
   "metadata": {},
   "source": [
    "## Feature Importance"
   ]
  },
  {
   "cell_type": "markdown",
   "metadata": {},
   "source": [
    "The features will be scaled to zero mean and unit variance for determining feature importance.  "
   ]
  },
  {
   "cell_type": "code",
   "execution_count": 24,
   "metadata": {},
   "outputs": [
    {
     "name": "stdout",
     "output_type": "stream",
     "text": [
      "Number of mislabeled points out of a total 6434 points : 633\n",
      "The accuracy for our scaled model is: 0.901616412807\n",
      "This is almost identical to our mean accuracy using cross validation.\n",
      "The confustion matrix is:\n",
      "[[5754  210]\n",
      " [ 423   47]]\n"
     ]
    }
   ],
   "source": [
    "#Scale our dataset to zero mean and unit variance for determining feature importance\n",
    "from sklearn.preprocessing import StandardScaler\n",
    "from sklearn.linear_model import LogisticRegression\n",
    "from sklearn.metrics import accuracy_score\n",
    "from sklearn import metrics as mt\n",
    "\n",
    "scaler = StandardScaler()\n",
    "gnb = GaussianNB()\n",
    "\n",
    "#Fit to data for scaling and scale x_train and x_test\n",
    "scaler.fit(x_fatals_train) \n",
    "x_fatals_train_scl = scaler.transform(x_fatals_train)\n",
    "x_fatals_test_scl = scaler.transform(x_fatals_test)\n",
    "\n",
    "#Fit the scaled data to our chosen model\n",
    "gnb.fit(x_fatals_train_scl,y_fatals_train)\n",
    "y_hat = gnb.predict(x_fatals_test_scl)\n",
    "print(\"Number of mislabeled points out of a total %d points : %d\"\n",
    "       % (x_fatals_test.shape[0],(y_fatals_test != y_hat).sum()))\n",
    "acc = accuracy_score(y_fatals_test, y_hat, sample_weight=None)\n",
    "conf = mt.confusion_matrix(y_fatals_test,y_hat)\n",
    "print('The accuracy for our scaled model is:', acc)\n",
    "print('This is almost identical to our mean accuracy using cross validation.')\n",
    "print('The confustion matrix is:')\n",
    "print(conf)\n"
   ]
  },
  {
   "cell_type": "code",
   "execution_count": 25,
   "metadata": {},
   "outputs": [
    {
     "name": "stdout",
     "output_type": "stream",
     "text": [
      "\n",
      "This provides the mean of each feature per class (single or multi fatality):\n"
     ]
    },
    {
     "data": {
      "text/html": [
       "<div>\n",
       "<style>\n",
       "    .dataframe thead tr:only-child th {\n",
       "        text-align: right;\n",
       "    }\n",
       "\n",
       "    .dataframe thead th {\n",
       "        text-align: left;\n",
       "    }\n",
       "\n",
       "    .dataframe tbody tr th {\n",
       "        vertical-align: top;\n",
       "    }\n",
       "</style>\n",
       "<table border=\"1\" class=\"dataframe\">\n",
       "  <thead>\n",
       "    <tr style=\"text-align: right;\">\n",
       "      <th></th>\n",
       "      <th>Single-Fatality</th>\n",
       "      <th>Multi-Fatality</th>\n",
       "    </tr>\n",
       "    <tr>\n",
       "      <th>Features</th>\n",
       "      <th></th>\n",
       "      <th></th>\n",
       "    </tr>\n",
       "  </thead>\n",
       "  <tbody>\n",
       "    <tr>\n",
       "      <th>ROUTE</th>\n",
       "      <td>0.018204</td>\n",
       "      <td>-0.230962</td>\n",
       "    </tr>\n",
       "    <tr>\n",
       "      <th>intersetion</th>\n",
       "      <td>0.004611</td>\n",
       "      <td>-0.058507</td>\n",
       "    </tr>\n",
       "    <tr>\n",
       "      <th>RUSH_HR</th>\n",
       "      <td>0.002558</td>\n",
       "      <td>-0.032451</td>\n",
       "    </tr>\n",
       "    <tr>\n",
       "      <th>LONGITUD</th>\n",
       "      <td>0.002499</td>\n",
       "      <td>-0.031708</td>\n",
       "    </tr>\n",
       "    <tr>\n",
       "      <th>light</th>\n",
       "      <td>0.000982</td>\n",
       "      <td>-0.012456</td>\n",
       "    </tr>\n",
       "    <tr>\n",
       "      <th>LATITUDE</th>\n",
       "      <td>0.000563</td>\n",
       "      <td>-0.007141</td>\n",
       "    </tr>\n",
       "    <tr>\n",
       "      <th>weather</th>\n",
       "      <td>0.000390</td>\n",
       "      <td>-0.004951</td>\n",
       "    </tr>\n",
       "    <tr>\n",
       "      <th>WRK_ZONE</th>\n",
       "      <td>0.000298</td>\n",
       "      <td>-0.003785</td>\n",
       "    </tr>\n",
       "    <tr>\n",
       "      <th>SCH_BUS</th>\n",
       "      <td>-0.001069</td>\n",
       "      <td>0.013568</td>\n",
       "    </tr>\n",
       "    <tr>\n",
       "      <th>SP_JUR</th>\n",
       "      <td>-0.001836</td>\n",
       "      <td>0.023293</td>\n",
       "    </tr>\n",
       "    <tr>\n",
       "      <th>lapseTime</th>\n",
       "      <td>-0.011895</td>\n",
       "      <td>0.150911</td>\n",
       "    </tr>\n",
       "    <tr>\n",
       "      <th>DRUNK</th>\n",
       "      <td>-0.011933</td>\n",
       "      <td>0.151399</td>\n",
       "    </tr>\n",
       "    <tr>\n",
       "      <th>NHS</th>\n",
       "      <td>-0.012254</td>\n",
       "      <td>0.155472</td>\n",
       "    </tr>\n",
       "    <tr>\n",
       "      <th>RUR_URB</th>\n",
       "      <td>-0.020384</td>\n",
       "      <td>0.258613</td>\n",
       "    </tr>\n",
       "    <tr>\n",
       "      <th>collision</th>\n",
       "      <td>-0.035660</td>\n",
       "      <td>0.452428</td>\n",
       "    </tr>\n",
       "    <tr>\n",
       "      <th>TOT_PERS</th>\n",
       "      <td>-0.059989</td>\n",
       "      <td>0.761092</td>\n",
       "    </tr>\n",
       "  </tbody>\n",
       "</table>\n",
       "</div>"
      ],
      "text/plain": [
       "             Single-Fatality  Multi-Fatality\n",
       "Features                                    \n",
       "ROUTE               0.018204       -0.230962\n",
       "intersetion         0.004611       -0.058507\n",
       "RUSH_HR             0.002558       -0.032451\n",
       "LONGITUD            0.002499       -0.031708\n",
       "light               0.000982       -0.012456\n",
       "LATITUDE            0.000563       -0.007141\n",
       "weather             0.000390       -0.004951\n",
       "WRK_ZONE            0.000298       -0.003785\n",
       "SCH_BUS            -0.001069        0.013568\n",
       "SP_JUR             -0.001836        0.023293\n",
       "lapseTime          -0.011895        0.150911\n",
       "DRUNK              -0.011933        0.151399\n",
       "NHS                -0.012254        0.155472\n",
       "RUR_URB            -0.020384        0.258613\n",
       "collision          -0.035660        0.452428\n",
       "TOT_PERS           -0.059989        0.761092"
      ]
     },
     "execution_count": 25,
     "metadata": {},
     "output_type": "execute_result"
    }
   ],
   "source": [
    "mean_feature_per_class = pd.DataFrame(gnb.theta_.T)\n",
    "features = pd.DataFrame(x_fatals_df.columns)\n",
    "\n",
    "mean_per_class = pd.concat([features, mean_feature_per_class], axis=1)\n",
    "mean_per_class.columns = ['Features', 'Single-Fatality', 'Multi-Fatality']\n",
    "mean_per_class = mean_per_class.set_index('Features')\n",
    "mean_per_class.sort_values(by='Multi-Fatality', inplace=True)\n",
    "print('\\nThis provides the mean of each feature per class (single or multi fatality):')\n",
    "mean_per_class"
   ]
  },
  {
   "cell_type": "markdown",
   "metadata": {},
   "source": [
    "The table above provides the feature mean for each classification - both single and multi-fatality accidents. It shows us the importance of each of the features for the classification task where the greater the feature mean for that classification, the more important the feature is for the classification. Therefore, TOT_pers, collision, RUR_URB, NHS, DRUNK, and lapseTime are the most important features here for classifying multi-fatality.\n",
    "\n",
    "These features make sense in this context because the higher the number of people involved in an accident, you would expect a higher likelihood of a multi-fatality. This is similar with collision, as a collision involves more vehicles and people. Drunk drivers being involved, as expected, influence an accident toward multiple fatalities.\n",
    "\n",
    "The lapseTime variable shows that the longer the time elapsed between the accident and the victim's arrival at the hospital, the higher likelihood of a multi-fatality accident. This is logical because of the importance of injured people receiving medical attention as soon as it is possible.\n",
    "\n",
    "In interpreting feature importance, visual aid can sometimes be helpful at first. The graphs below show the coefficients found by our logistic regression model which, although it is not the model that we chose as the best, still gives insight into the features that impact the number of fatalities in an accident. The features highlighted here are approximately the same as those mentioned from the table above."
   ]
  },
  {
   "cell_type": "code",
   "execution_count": 26,
   "metadata": {},
   "outputs": [
    {
     "data": {
      "image/png": "[encoded data removed]",
      "text/plain": [
       "<matplotlib.figure.Figure at 0x110575b70>"
      ]
     },
     "metadata": {},
     "output_type": "display_data"
    }
   ],
   "source": [
    "#Lets look at regression coefficients\n",
    "gnb = LogisticRegression()\n",
    "gnb.fit(x_fatals_train_scl,y_fatals_train)\n",
    "y_hat = gnb.predict(x_fatals_test_scl)\n",
    "\n",
    "#Load the model's coefficient weights and feature names into a dataframe sorted by weights\n",
    "weights = gnb.coef_.T.flatten()\n",
    "#print(weights)\n",
    "feature_names = x_fatals_df.columns\n",
    "#print(feature_names)\n",
    "gnb_ft_imp_df = pd.DataFrame({'feature_names':feature_names, 'weights':weights, 'absolute_weights': np.abs(weights)})\n",
    "gnb_ft_imp_df.sort_values(by='weights', inplace=True)\n",
    "\n",
    "#Plot the model's feature importances\n",
    "# REFERENCE:  Eric Larson, https://github.com/eclarson/DataMiningNotebooks\n",
    "plt.style.use('ggplot')\n",
    "\n",
    "wt_plt_df = gnb_ft_imp_df.head(8)\n",
    "\n",
    "weights = pd.Series(wt_plt_df['weights'].values,index=wt_plt_df['feature_names'])\n",
    "ax = weights.plot(kind='bar')\n",
    "\n",
    "ax.set_title(\"Negative Correlations\")\n",
    "ax.set_ylabel(\"Coefficient Magnitude\\n(z-score)\")\n",
    "ax.set_xlabel(\"Feature Names\")\n",
    "plt.show()\n",
    "\n",
    "# sort these attributes and spit them out\n",
    "# zip_vars = zip(lr.coef_.T,x_fatals_df.columns) # combine attributes\n",
    "# for coef, name in sorted(zip_vars):\n",
    "#     print(name, 'has weight of', coef[0]) # now print them out"
   ]
  },
  {
   "cell_type": "code",
   "execution_count": 27,
   "metadata": {},
   "outputs": [
    {
     "data": {
      "image/png": "[encoded data removed]",
      "text/plain": [
       "<matplotlib.figure.Figure at 0x10f162c18>"
      ]
     },
     "metadata": {},
     "output_type": "display_data"
    }
   ],
   "source": [
    "#Plot the model's feature importances\n",
    "# REFERENCE:  Eric Larson, https://github.com/eclarson/DataMiningNotebooks\n",
    "plt.style.use('ggplot')\n",
    "\n",
    "wt_plt_df = gnb_ft_imp_df.tail(8)\n",
    "\n",
    "weights = pd.Series(wt_plt_df['weights'].values,index=wt_plt_df['feature_names'])\n",
    "ax = weights.plot(kind='bar')\n",
    "\n",
    "ax.set_title(\"Positive Correlations\")\n",
    "ax.set_ylabel(\"Coefficient Magnitude\\n(z-score)\")\n",
    "ax.set_xlabel(\"Feature Names\")\n",
    "plt.show()\n"
   ]
  },
  {
   "cell_type": "markdown",
   "metadata": {},
   "source": [
    "The two plots above show the most highly coorelated features for multi-fatality accidents.  Total persons, collisions, urban driving and drunk driving are all positively coorelated with multiple fatality accidents.  The negative coorelations are less significant, but intersections and smaller roads (routes) are the most significant negative coorelations."
   ]
  },
  {
   "cell_type": "markdown",
   "metadata": {},
   "source": [
    "The accuracy of the model we *did* choose, the Gaussian NB, is shown below."
   ]
  },
  {
   "cell_type": "code",
   "execution_count": 86,
   "metadata": {
    "scrolled": true
   },
   "outputs": [
    {
     "data": {
      "image/png": "[encoded data removed]",
      "text/plain": [
       "<matplotlib.figure.Figure at 0x1a14c24e48>"
      ]
     },
     "metadata": {},
     "output_type": "display_data"
    }
   ],
   "source": [
    "# Visualize the Accuracy of the GaussianNB \n",
    "\n",
    "def per_class_accuracy(ytrue,y_hat):\n",
    "    conf = mt.confusion_matrix(ytrue,y_hat)\n",
    "    norm_conf = conf.astype('float') / conf.sum(axis=1)[:, np.newaxis]\n",
    "    return np.diag(norm_conf)\n",
    "\n",
    "def plot_class_acc(ytrue,y_hat, title=''):\n",
    "    acc_list = per_class_accuracy(ytrue,y_hat)\n",
    "    plt.bar(range(len(acc_list)), acc_list)\n",
    "    plt.xlabel('Class value')\n",
    "    plt.ylabel('Accuracy within class')\n",
    "    plt.title(title+\", Total Acc=%.1f\"%(100*mt.accuracy_score(ytrue,y_hat)))\n",
    "    plt.grid()\n",
    "    plt.ylim([0,1])\n",
    "    plt.show()\n",
    "\n",
    "\n",
    "plot_class_acc(y_fatals_test,y_hat,title=\"GaussianNB\")"
   ]
  },
  {
   "cell_type": "code",
   "execution_count": 120,
   "metadata": {},
   "outputs": [
    {
     "name": "stdout",
     "output_type": "stream",
     "text": [
      "Total Accuracy: 0.901616412807\n"
     ]
    }
   ],
   "source": [
    "from sklearn import metrics as mt\n",
    "\n",
    "# get various measures of performance\n",
    "total_accuracy = mt.accuracy_score(y_fatals_test,y_hat)\n",
    "per_class_acc_list = per_class_accuracy(y_fatals_test,y_hat)\n",
    "\n",
    "rec_tot = []\n",
    "prec_tot = []\n",
    "\n",
    "for cls in np.unique(y_fatals_test):\n",
    "    idx = (y_fatals_test==cls) # get classes\n",
    "    ytmp_actual = np.zeros(y_fatals_test.shape) # make binary class problem\n",
    "    ytmp_actual[idx] = 1 # set the instances for this specific class\n",
    "    \n",
    "    ytmp_predicted = np.zeros(y_fatals_test.shape) # binary prediction array\n",
    "    ytmp_predicted[y_hat==cls] = 1\n",
    "    \n",
    "    num_in_class = sum(idx)\n",
    "    \n",
    "    rec = mt.recall_score(ytmp_actual, ytmp_predicted)\n",
    "    prec = mt.precision_score(ytmp_actual, ytmp_predicted)\n",
    "    rec_tot.append(rec)\n",
    "    prec_tot.append(prec)\n",
    "        \n",
    "print ('Total Accuracy:',total_accuracy)\n"
   ]
  },
  {
   "cell_type": "code",
   "execution_count": 121,
   "metadata": {},
   "outputs": [
    {
     "data": {
      "image/png": "[encoded data removed]",
      "text/plain": [
       "<matplotlib.figure.Figure at 0x1a1deedf98>"
      ]
     },
     "metadata": {},
     "output_type": "display_data"
    }
   ],
   "source": [
    "# But we can really summarize this data much better than this. \n",
    "# How about looking at more statistics of the precision and recall for each class?\n",
    "\n",
    "import seaborn as sns\n",
    "sns.set_palette(\"dark\")\n",
    "plt.figure(figsize=(15,5))\n",
    "plt.boxplot([ rec_tot, prec_tot],\n",
    "            labels=['Recall, all fatalities','Precision, all fatalities'])\n",
    "plt.ylim([0,1])\n",
    "plt.show()"
   ]
  },
  {
   "cell_type": "markdown",
   "metadata": {},
   "source": [
    "The box and whisker plots shown here provide a quick view of the statistical composition of the precision and recall of our chosen model. The ends represent the floor (lowest) and ceiling (highest) values. The top and bottom of the boxes represent the values at 25% and 75% of our plotted data, while the median value is shown by the center line."
   ]
  },
  {
   "cell_type": "markdown",
   "metadata": {},
   "source": [
    "## PART 2\n",
    "\n",
    "## Classification of Collision/No-collision accidents\n",
    "\n",
    "**We will classify accidents into those that result in collisions or no collision**\n",
    "\n",
    "The dataset includes information for several types of motor vehicle collisions, including head-on, sideswipe, rear-end and other types of collision. This information is listed for those accidents in the dataset for which \"first harmful event\" is listed as a collision between two or more motor vehicles. Those that do not have this event listed have a \"0\" for the MAN_COLL (manner of collision) variable. To reduce this information to a binary classifier, we retained all non-collision accidents as a \"0\" and combined each type of collision into a \"1\" in a new variable named *collision*.\n",
    " \n",
    "Once again using logistic regression, K-nearest neighbor, and Gaussian and Bernoulli Naive Bayes models we will attempt to classify the accidents in our dataset as to whether each accident involved a collision with another vehicle.    \n",
    "For each of these models, a grid search will be used to assist in determining the most useful combination of parameters.\n",
    "\n",
    "When compared to the number of fatalities, this variable is not nearly as highly skewed: 19,881 (62%) accidents did not involve a collision with another motor vehicle while 12,285 (38%) did.\n",
    "\n",
    "### Training and Test Split\n"
   ]
  },
  {
   "cell_type": "code",
   "execution_count": 47,
   "metadata": {},
   "outputs": [
    {
     "name": "stdout",
     "output_type": "stream",
     "text": [
      "TRAIN: [ 3149 28518 10655 ..., 20569 16467 23754] TEST: [14743 21781 20614 ..., 26957 19563  7755]\n",
      "TRAIN: [21230 14926 17028 ...,  6740 23747 16429] TEST: [26193  9326 32146 ..., 18677 20266 30084]\n",
      "TRAIN: [  434 30556 14127 ...,  9187 18959 30275] TEST: [21986 17964 29035 ..., 12827 22285 31219]\n",
      "TRAIN: [31747 10237 28365 ..., 14365 24012 15226] TEST: [20309  2238 30807 ..., 26386 12482 20199]\n",
      "TRAIN: [ 8477  2940 13446 ..., 17723  8644 19745] TEST: [ 6290  9116 27127 ..., 24203 20562 28357]\n",
      "TRAIN: [11422  6465 16003 ..., 22966 30613 28562] TEST: [24957 12040  1782 ...,  8346 19303 25996]\n",
      "TRAIN: [12488 21406  8035 ..., 14583  2872 25086] TEST: [ 4039 15707 15101 ..., 11516  2990 19964]\n",
      "TRAIN: [ 7324  1992  7901 ..., 12964 15518 21010] TEST: [ 5611  3063  7769 ..., 11197 15237  9335]\n",
      "TRAIN: [14206 19955 26959 ..., 16722 30731 19931] TEST: [19823 22292 11995 ..., 16101  1016 15855]\n",
      "TRAIN: [ 1398 16149  7296 ..., 22722 18554 29060] TEST: [6363 5528 7133 ..., 2111 4649   39]\n",
      "StratifiedShuffleSplit(n_splits=10, random_state=1, test_size=0.2,\n",
      "            train_size=0.8)\n",
      "collision\n",
      "0    19881\n",
      "1    12285\n",
      "Name: collision, dtype: int64\n"
     ]
    }
   ],
   "source": [
    "# Training and Testing Split 80/20 with 10 fold cross validation\n",
    "\n",
    "from sklearn.model_selection import StratifiedShuffleSplit\n",
    "\n",
    "df_collision = df\n",
    "\n",
    "# create x explanatory and y response variable for regression\n",
    "y_collision_df = df_collision['collision']\n",
    "x_collision_df = df_collision.drop(['collision'],axis=1)\n",
    "y_collision = df_collision['collision'].values\n",
    "x_collision = df_collision.drop(['collision'],axis=1).values\n",
    "\n",
    "cv_collision = StratifiedShuffleSplit(n_splits=10,\n",
    "                         test_size  = 0.2, train_size = 0.8, random_state=1)\n",
    "\n",
    "cv_collision.get_n_splits(x_collision,y_collision)\n",
    "\n",
    "for train_index, test_index in cv_collision.split(x_collision,y_collision):\n",
    "    print(\"TRAIN:\", train_index, \"TEST:\", test_index)\n",
    "    x_collision_train, x_collision_test = x_collision[train_index], x_collision[test_index]\n",
    "    y_collision_train, y_collision_test = y_collision[train_index], y_collision[test_index]\n",
    "\n",
    "print(cv_collision)\n",
    "    \n",
    "# We will classify accidents on if there was a collision\n",
    "df_collision = df.groupby(by='collision')\n",
    "print (df_collision.collision.count())"
   ]
  },
  {
   "cell_type": "markdown",
   "metadata": {},
   "source": [
    "### Logistic Regression"
   ]
  },
  {
   "cell_type": "code",
   "execution_count": 48,
   "metadata": {},
   "outputs": [
    {
     "name": "stdout",
     "output_type": "stream",
     "text": [
      "Fitting 10 folds for each of 24 candidates, totalling 240 fits\n"
     ]
    },
    {
     "name": "stderr",
     "output_type": "stream",
     "text": [
      "[Parallel(n_jobs=8)]: Done  34 tasks      | elapsed:    4.5s\n",
      "[Parallel(n_jobs=8)]: Done 184 tasks      | elapsed:   39.5s\n",
      "[Parallel(n_jobs=8)]: Done 240 out of 240 | elapsed:   55.0s finished\n"
     ]
    },
    {
     "data": {
      "text/plain": [
       "GridSearchCV(cv=StratifiedShuffleSplit(n_splits=10, random_state=1, test_size=0.2,\n",
       "            train_size=0.8),\n",
       "       error_score='raise',\n",
       "       estimator=LogisticRegression(C=1.0, class_weight=None, dual=False, fit_intercept=True,\n",
       "          intercept_scaling=1, max_iter=100, multi_class='ovr', n_jobs=1,\n",
       "          penalty='l2', random_state=None, solver='liblinear', tol=0.0001,\n",
       "          verbose=0, warm_start=False),\n",
       "       fit_params=None, iid=True, n_jobs=8,\n",
       "       param_grid={'penalty': ['l2'], 'C': [0.001, 0.01, 0.1, 1, 10, 100], 'class_weight': ['balanced', 'none'], 'random_state': [0], 'solver': ['lbfgs'], 'max_iter': [100, 500]},\n",
       "       pre_dispatch='2*n_jobs', refit=True, return_train_score='warn',\n",
       "       scoring='accuracy', verbose=1)"
      ]
     },
     "execution_count": 48,
     "metadata": {},
     "output_type": "execute_result"
    }
   ],
   "source": [
    "#Logisitic regression 10-fold cross-validation \n",
    "from sklearn.linear_model import LogisticRegression\n",
    "Estimator = LogisticRegression()\n",
    "\n",
    "parameters = { 'penalty':['l2']\n",
    "              ,'C': [0.001, 0.01, 0.1, 1, 10, 100]\n",
    "              ,'class_weight': ['balanced','none']\n",
    "              ,'random_state': [0]\n",
    "              ,'solver': ['lbfgs']\n",
    "              ,'max_iter':[100,500]\n",
    "             }\n",
    "\n",
    "#Create a grid search object using the  \n",
    "from sklearn.model_selection import GridSearchCV\n",
    "regGridSearch = GridSearchCV(estimator=Estimator\n",
    "                   , n_jobs=8 # jobs to run in parallel\n",
    "                   , verbose=1 # low verbosity\n",
    "                   , param_grid=parameters\n",
    "                   , cv=cv_collision # KFolds = 10\n",
    "                   , scoring='accuracy')\n",
    "\n",
    "#Perform hyperparameter search to find the best combination of parameters for our data\n",
    "regGridSearch.fit(x_collision, y_collision)"
   ]
  },
  {
   "cell_type": "code",
   "execution_count": 49,
   "metadata": {},
   "outputs": [
    {
     "data": {
      "text/plain": [
       "LogisticRegression(C=0.1, class_weight='none', dual=False, fit_intercept=True,\n",
       "          intercept_scaling=1, max_iter=100, multi_class='ovr', n_jobs=1,\n",
       "          penalty='l2', random_state=0, solver='lbfgs', tol=0.0001,\n",
       "          verbose=0, warm_start=False)"
      ]
     },
     "execution_count": 49,
     "metadata": {},
     "output_type": "execute_result"
    }
   ],
   "source": [
    "#Display the best estimator parameters\n",
    "LR_best_estimator = regGridSearch.best_estimator_\n",
    "LR_best_estimator"
   ]
  },
  {
   "cell_type": "code",
   "execution_count": 50,
   "metadata": {},
   "outputs": [
    {
     "name": "stdout",
     "output_type": "stream",
     "text": [
      "The average accuracy for all cv folds is: \t\t\t 0.7258\n",
      "The average precision for all cv folds is: \t\t\t 0.68381\n",
      "The average recall for all cv folds is: \t\t\t 0.5247\n",
      "*********************************************************\n",
      "Cross Validation Fold Mean Error Scores\n"
     ]
    },
    {
     "data": {
      "text/html": [
       "<div>\n",
       "<style>\n",
       "    .dataframe thead tr:only-child th {\n",
       "        text-align: right;\n",
       "    }\n",
       "\n",
       "    .dataframe thead th {\n",
       "        text-align: left;\n",
       "    }\n",
       "\n",
       "    .dataframe tbody tr th {\n",
       "        vertical-align: top;\n",
       "    }\n",
       "</style>\n",
       "<table border=\"1\" class=\"dataframe\">\n",
       "  <thead>\n",
       "    <tr style=\"text-align: right;\">\n",
       "      <th></th>\n",
       "      <th>Accuracy</th>\n",
       "      <th>Precision</th>\n",
       "      <th>Recall</th>\n",
       "    </tr>\n",
       "  </thead>\n",
       "  <tbody>\n",
       "    <tr>\n",
       "      <th>0</th>\n",
       "      <td>0.726609</td>\n",
       "      <td>0.683684</td>\n",
       "      <td>0.528694</td>\n",
       "    </tr>\n",
       "    <tr>\n",
       "      <th>1</th>\n",
       "      <td>0.731427</td>\n",
       "      <td>0.702163</td>\n",
       "      <td>0.515263</td>\n",
       "    </tr>\n",
       "    <tr>\n",
       "      <th>2</th>\n",
       "      <td>0.731116</td>\n",
       "      <td>0.691014</td>\n",
       "      <td>0.535206</td>\n",
       "    </tr>\n",
       "    <tr>\n",
       "      <th>3</th>\n",
       "      <td>0.723656</td>\n",
       "      <td>0.678590</td>\n",
       "      <td>0.525031</td>\n",
       "    </tr>\n",
       "    <tr>\n",
       "      <th>4</th>\n",
       "      <td>0.715107</td>\n",
       "      <td>0.663180</td>\n",
       "      <td>0.516077</td>\n",
       "    </tr>\n",
       "    <tr>\n",
       "      <th>5</th>\n",
       "      <td>0.723966</td>\n",
       "      <td>0.682183</td>\n",
       "      <td>0.518926</td>\n",
       "    </tr>\n",
       "    <tr>\n",
       "      <th>6</th>\n",
       "      <td>0.726142</td>\n",
       "      <td>0.686127</td>\n",
       "      <td>0.521368</td>\n",
       "    </tr>\n",
       "    <tr>\n",
       "      <th>7</th>\n",
       "      <td>0.726919</td>\n",
       "      <td>0.684405</td>\n",
       "      <td>0.528694</td>\n",
       "    </tr>\n",
       "    <tr>\n",
       "      <th>8</th>\n",
       "      <td>0.730028</td>\n",
       "      <td>0.687305</td>\n",
       "      <td>0.537648</td>\n",
       "    </tr>\n",
       "    <tr>\n",
       "      <th>9</th>\n",
       "      <td>0.723034</td>\n",
       "      <td>0.679426</td>\n",
       "      <td>0.520147</td>\n",
       "    </tr>\n",
       "  </tbody>\n",
       "</table>\n",
       "</div>"
      ],
      "text/plain": [
       "   Accuracy  Precision    Recall\n",
       "0  0.726609   0.683684  0.528694\n",
       "1  0.731427   0.702163  0.515263\n",
       "2  0.731116   0.691014  0.535206\n",
       "3  0.723656   0.678590  0.525031\n",
       "4  0.715107   0.663180  0.516077\n",
       "5  0.723966   0.682183  0.518926\n",
       "6  0.726142   0.686127  0.521368\n",
       "7  0.726919   0.684405  0.528694\n",
       "8  0.730028   0.687305  0.537648\n",
       "9  0.723034   0.679426  0.520147"
      ]
     },
     "execution_count": 50,
     "metadata": {},
     "output_type": "execute_result"
    }
   ],
   "source": [
    "#Evaluate the regression estimator above using our pre-defined cross validation and scoring metrics. \n",
    "EvaluateClassifierEstimator(LR_best_estimator, x_collision, y_collision, cv_collision)"
   ]
  },
  {
   "cell_type": "code",
   "execution_count": 53,
   "metadata": {
    "collapsed": true
   },
   "outputs": [],
   "source": [
    "#Store scores for model comparison\n",
    "scores = cross_validate(LR_best_estimator, x_collision, y_collision, scoring=['accuracy','precision','recall']\n",
    "                            , cv=cv_collision, return_train_score=True)\n",
    "acc_lr = scores['test_accuracy']\n",
    "pre_lr = scores['test_precision']\n",
    "rec_lr = scores['test_recall']"
   ]
  },
  {
   "cell_type": "markdown",
   "metadata": {},
   "source": [
    "### K-Nearest Neighbor"
   ]
  },
  {
   "cell_type": "code",
   "execution_count": 52,
   "metadata": {
    "scrolled": false
   },
   "outputs": [
    {
     "name": "stdout",
     "output_type": "stream",
     "text": [
      "Fitting 10 folds for each of 40 candidates, totalling 400 fits\n"
     ]
    },
    {
     "name": "stderr",
     "output_type": "stream",
     "text": [
      "[Parallel(n_jobs=8)]: Done  34 tasks      | elapsed:   49.7s\n",
      "[Parallel(n_jobs=8)]: Done 184 tasks      | elapsed:  3.3min\n",
      "[Parallel(n_jobs=8)]: Done 400 out of 400 | elapsed:  7.5min finished\n"
     ]
    },
    {
     "data": {
      "text/plain": [
       "GridSearchCV(cv=StratifiedShuffleSplit(n_splits=10, random_state=1, test_size=0.2,\n",
       "            train_size=0.8),\n",
       "       error_score='raise',\n",
       "       estimator=KNeighborsClassifier(algorithm='auto', leaf_size=30, metric='minkowski',\n",
       "           metric_params=None, n_jobs=1, n_neighbors=5, p=2,\n",
       "           weights='uniform'),\n",
       "       fit_params=None, iid=True, n_jobs=8,\n",
       "       param_grid={'n_neighbors': [8, 9, 10, 11, 12], 'weights': ['uniform', 'distance'], 'algorithm': ['auto'], 'leaf_size': [10, 30], 'p': [1, 2]},\n",
       "       pre_dispatch='2*n_jobs', refit=True, return_train_score='warn',\n",
       "       scoring='accuracy', verbose=1)"
      ]
     },
     "execution_count": 52,
     "metadata": {},
     "output_type": "execute_result"
    }
   ],
   "source": [
    "#KNN 10-fold cross-validation (this takes about 8 minutes to run)\n",
    "from sklearn.neighbors import KNeighborsClassifier\n",
    "Estimator = KNeighborsClassifier()\n",
    "\n",
    "parameters = { 'n_neighbors':[8,9,10,11,12],\n",
    "               'weights':['uniform','distance'],\n",
    "               'algorithm':['auto'],\n",
    "               'leaf_size':[10,30],\n",
    "               'p':[1,2]                # p=1:manhattan, p=2:euclidean\n",
    "             }\n",
    "\n",
    "#Create a grid search object using the  \n",
    "from sklearn.model_selection import GridSearchCV\n",
    "regGridSearch = GridSearchCV(estimator=Estimator\n",
    "                   , n_jobs=8 # jobs to run in parallel\n",
    "                   , verbose=1 # low verbosity\n",
    "                   , param_grid=parameters\n",
    "                   , cv=cv_collision # KFolds = 10\n",
    "                   , scoring='accuracy')\n",
    "\n",
    "#Perform hyperparameter search to find the best combination of parameters for our data\n",
    "regGridSearch.fit(x_collision, y_collision)"
   ]
  },
  {
   "cell_type": "code",
   "execution_count": 54,
   "metadata": {},
   "outputs": [
    {
     "data": {
      "text/plain": [
       "KNeighborsClassifier(algorithm='auto', leaf_size=10, metric='minkowski',\n",
       "           metric_params=None, n_jobs=1, n_neighbors=12, p=1,\n",
       "           weights='distance')"
      ]
     },
     "execution_count": 54,
     "metadata": {},
     "output_type": "execute_result"
    }
   ],
   "source": [
    "#Display the best estimator parameters\n",
    "KNN_best_estimator = regGridSearch.best_estimator_\n",
    "KNN_best_estimator"
   ]
  },
  {
   "cell_type": "code",
   "execution_count": 55,
   "metadata": {
    "scrolled": false
   },
   "outputs": [
    {
     "name": "stdout",
     "output_type": "stream",
     "text": [
      "The average accuracy for all cv folds is: \t\t\t 0.73652\n",
      "The average precision for all cv folds is: \t\t\t 0.68412\n",
      "The average recall for all cv folds is: \t\t\t 0.57607\n",
      "*********************************************************\n",
      "Cross Validation Fold Mean Error Scores\n"
     ]
    },
    {
     "data": {
      "text/html": [
       "<div>\n",
       "<style>\n",
       "    .dataframe thead tr:only-child th {\n",
       "        text-align: right;\n",
       "    }\n",
       "\n",
       "    .dataframe thead th {\n",
       "        text-align: left;\n",
       "    }\n",
       "\n",
       "    .dataframe tbody tr th {\n",
       "        vertical-align: top;\n",
       "    }\n",
       "</style>\n",
       "<table border=\"1\" class=\"dataframe\">\n",
       "  <thead>\n",
       "    <tr style=\"text-align: right;\">\n",
       "      <th></th>\n",
       "      <th>Accuracy</th>\n",
       "      <th>Precision</th>\n",
       "      <th>Recall</th>\n",
       "    </tr>\n",
       "  </thead>\n",
       "  <tbody>\n",
       "    <tr>\n",
       "      <th>0</th>\n",
       "      <td>0.736090</td>\n",
       "      <td>0.683955</td>\n",
       "      <td>0.574278</td>\n",
       "    </tr>\n",
       "    <tr>\n",
       "      <th>1</th>\n",
       "      <td>0.738110</td>\n",
       "      <td>0.686114</td>\n",
       "      <td>0.579162</td>\n",
       "    </tr>\n",
       "    <tr>\n",
       "      <th>2</th>\n",
       "      <td>0.749611</td>\n",
       "      <td>0.705940</td>\n",
       "      <td>0.590151</td>\n",
       "    </tr>\n",
       "    <tr>\n",
       "      <th>3</th>\n",
       "      <td>0.732048</td>\n",
       "      <td>0.676627</td>\n",
       "      <td>0.571429</td>\n",
       "    </tr>\n",
       "    <tr>\n",
       "      <th>4</th>\n",
       "      <td>0.733758</td>\n",
       "      <td>0.676638</td>\n",
       "      <td>0.579976</td>\n",
       "    </tr>\n",
       "    <tr>\n",
       "      <th>5</th>\n",
       "      <td>0.729251</td>\n",
       "      <td>0.674988</td>\n",
       "      <td>0.561254</td>\n",
       "    </tr>\n",
       "    <tr>\n",
       "      <th>6</th>\n",
       "      <td>0.730339</td>\n",
       "      <td>0.675926</td>\n",
       "      <td>0.564510</td>\n",
       "    </tr>\n",
       "    <tr>\n",
       "      <th>7</th>\n",
       "      <td>0.740286</td>\n",
       "      <td>0.692082</td>\n",
       "      <td>0.576313</td>\n",
       "    </tr>\n",
       "    <tr>\n",
       "      <th>8</th>\n",
       "      <td>0.738732</td>\n",
       "      <td>0.687259</td>\n",
       "      <td>0.579569</td>\n",
       "    </tr>\n",
       "    <tr>\n",
       "      <th>9</th>\n",
       "      <td>0.737022</td>\n",
       "      <td>0.681710</td>\n",
       "      <td>0.584046</td>\n",
       "    </tr>\n",
       "  </tbody>\n",
       "</table>\n",
       "</div>"
      ],
      "text/plain": [
       "   Accuracy  Precision    Recall\n",
       "0  0.736090   0.683955  0.574278\n",
       "1  0.738110   0.686114  0.579162\n",
       "2  0.749611   0.705940  0.590151\n",
       "3  0.732048   0.676627  0.571429\n",
       "4  0.733758   0.676638  0.579976\n",
       "5  0.729251   0.674988  0.561254\n",
       "6  0.730339   0.675926  0.564510\n",
       "7  0.740286   0.692082  0.576313\n",
       "8  0.738732   0.687259  0.579569\n",
       "9  0.737022   0.681710  0.584046"
      ]
     },
     "execution_count": 55,
     "metadata": {},
     "output_type": "execute_result"
    }
   ],
   "source": [
    "#Evaluate the regression estimator above using our pre-defined cross validation and scoring metrics. \n",
    "EvaluateClassifierEstimator(KNN_best_estimator, x_collision, y_collision, cv_collision)"
   ]
  },
  {
   "cell_type": "code",
   "execution_count": 57,
   "metadata": {
    "collapsed": true
   },
   "outputs": [],
   "source": [
    "#Store scores for model comparison\n",
    "scores = cross_validate(KNN_best_estimator, x_collision, y_collision, scoring=['accuracy','precision','recall']\n",
    "                            , cv=cv_collision, return_train_score=True)\n",
    "acc_knn = scores['test_accuracy']\n",
    "pre_knn = scores['test_precision']\n",
    "rec_knn = scores['test_recall']"
   ]
  },
  {
   "cell_type": "markdown",
   "metadata": {},
   "source": [
    "### Gaussian Naive Bayes"
   ]
  },
  {
   "cell_type": "code",
   "execution_count": 58,
   "metadata": {},
   "outputs": [
    {
     "name": "stdout",
     "output_type": "stream",
     "text": [
      "Fitting 10 folds for each of 1 candidates, totalling 10 fits\n"
     ]
    },
    {
     "name": "stderr",
     "output_type": "stream",
     "text": [
      "[Parallel(n_jobs=8)]: Done   6 out of  10 | elapsed:    0.2s remaining:    0.1s\n",
      "[Parallel(n_jobs=8)]: Done  10 out of  10 | elapsed:    0.2s finished\n"
     ]
    },
    {
     "data": {
      "text/plain": [
       "GridSearchCV(cv=StratifiedShuffleSplit(n_splits=10, random_state=1, test_size=0.2,\n",
       "            train_size=0.8),\n",
       "       error_score='raise', estimator=GaussianNB(priors=None),\n",
       "       fit_params=None, iid=True, n_jobs=8, param_grid={'priors': [None]},\n",
       "       pre_dispatch='2*n_jobs', refit=True, return_train_score='warn',\n",
       "       scoring='accuracy', verbose=1)"
      ]
     },
     "execution_count": 58,
     "metadata": {},
     "output_type": "execute_result"
    }
   ],
   "source": [
    "#Naive Bayes Gaussian 10-fold cross-validation \n",
    "from sklearn.naive_bayes import GaussianNB\n",
    "from sklearn.naive_bayes import BernoulliNB\n",
    "Estimator = GaussianNB()\n",
    "\n",
    "parameters = { 'priors':[None]\n",
    "             }\n",
    "#Create a grid search object using the  \n",
    "from sklearn.model_selection import GridSearchCV\n",
    "regGridSearch = GridSearchCV(estimator=Estimator\n",
    "                   , n_jobs=8 # jobs to run in parallel\n",
    "                   , verbose=1 # low verbosity\n",
    "                   , param_grid=parameters\n",
    "                   , cv=cv_collision # KFolds = 10\n",
    "                   , scoring='accuracy')\n",
    "\n",
    "#Perform hyperparameter search to find the best combination of parameters for our data\n",
    "regGridSearch.fit(x_collision, y_collision)"
   ]
  },
  {
   "cell_type": "code",
   "execution_count": 59,
   "metadata": {},
   "outputs": [
    {
     "data": {
      "text/plain": [
       "GaussianNB(priors=None)"
      ]
     },
     "execution_count": 59,
     "metadata": {},
     "output_type": "execute_result"
    }
   ],
   "source": [
    "#Display the best estimator parameters\n",
    "GNB_best_estimator = regGridSearch.best_estimator_\n",
    "GNB_best_estimator"
   ]
  },
  {
   "cell_type": "code",
   "execution_count": 60,
   "metadata": {},
   "outputs": [
    {
     "name": "stdout",
     "output_type": "stream",
     "text": [
      "The average accuracy for all cv folds is: \t\t\t 0.68809\n",
      "The average precision for all cv folds is: \t\t\t 0.66191\n",
      "The average recall for all cv folds is: \t\t\t 0.37473\n",
      "*********************************************************\n",
      "Cross Validation Fold Mean Error Scores\n"
     ]
    },
    {
     "data": {
      "text/html": [
       "<div>\n",
       "<style>\n",
       "    .dataframe thead tr:only-child th {\n",
       "        text-align: right;\n",
       "    }\n",
       "\n",
       "    .dataframe thead th {\n",
       "        text-align: left;\n",
       "    }\n",
       "\n",
       "    .dataframe tbody tr th {\n",
       "        vertical-align: top;\n",
       "    }\n",
       "</style>\n",
       "<table border=\"1\" class=\"dataframe\">\n",
       "  <thead>\n",
       "    <tr style=\"text-align: right;\">\n",
       "      <th></th>\n",
       "      <th>Accuracy</th>\n",
       "      <th>Precision</th>\n",
       "      <th>Recall</th>\n",
       "    </tr>\n",
       "  </thead>\n",
       "  <tbody>\n",
       "    <tr>\n",
       "      <th>0</th>\n",
       "      <td>0.682779</td>\n",
       "      <td>0.655922</td>\n",
       "      <td>0.356125</td>\n",
       "    </tr>\n",
       "    <tr>\n",
       "      <th>1</th>\n",
       "      <td>0.688685</td>\n",
       "      <td>0.671970</td>\n",
       "      <td>0.361009</td>\n",
       "    </tr>\n",
       "    <tr>\n",
       "      <th>2</th>\n",
       "      <td>0.688219</td>\n",
       "      <td>0.663524</td>\n",
       "      <td>0.372405</td>\n",
       "    </tr>\n",
       "    <tr>\n",
       "      <th>3</th>\n",
       "      <td>0.691638</td>\n",
       "      <td>0.671005</td>\n",
       "      <td>0.377696</td>\n",
       "    </tr>\n",
       "    <tr>\n",
       "      <th>4</th>\n",
       "      <td>0.681691</td>\n",
       "      <td>0.640357</td>\n",
       "      <td>0.379731</td>\n",
       "    </tr>\n",
       "    <tr>\n",
       "      <th>5</th>\n",
       "      <td>0.688685</td>\n",
       "      <td>0.664017</td>\n",
       "      <td>0.374033</td>\n",
       "    </tr>\n",
       "    <tr>\n",
       "      <th>6</th>\n",
       "      <td>0.690239</td>\n",
       "      <td>0.666906</td>\n",
       "      <td>0.377289</td>\n",
       "    </tr>\n",
       "    <tr>\n",
       "      <th>7</th>\n",
       "      <td>0.689462</td>\n",
       "      <td>0.659044</td>\n",
       "      <td>0.387057</td>\n",
       "    </tr>\n",
       "    <tr>\n",
       "      <th>8</th>\n",
       "      <td>0.695835</td>\n",
       "      <td>0.674338</td>\n",
       "      <td>0.393569</td>\n",
       "    </tr>\n",
       "    <tr>\n",
       "      <th>9</th>\n",
       "      <td>0.683712</td>\n",
       "      <td>0.652017</td>\n",
       "      <td>0.368335</td>\n",
       "    </tr>\n",
       "  </tbody>\n",
       "</table>\n",
       "</div>"
      ],
      "text/plain": [
       "   Accuracy  Precision    Recall\n",
       "0  0.682779   0.655922  0.356125\n",
       "1  0.688685   0.671970  0.361009\n",
       "2  0.688219   0.663524  0.372405\n",
       "3  0.691638   0.671005  0.377696\n",
       "4  0.681691   0.640357  0.379731\n",
       "5  0.688685   0.664017  0.374033\n",
       "6  0.690239   0.666906  0.377289\n",
       "7  0.689462   0.659044  0.387057\n",
       "8  0.695835   0.674338  0.393569\n",
       "9  0.683712   0.652017  0.368335"
      ]
     },
     "execution_count": 60,
     "metadata": {},
     "output_type": "execute_result"
    }
   ],
   "source": [
    "#Evaluate the regression estimator above using our pre-defined cross validation and scoring metrics. \n",
    "EvaluateClassifierEstimator(GNB_best_estimator, x_collision, y_collision, cv_collision)"
   ]
  },
  {
   "cell_type": "code",
   "execution_count": 61,
   "metadata": {
    "collapsed": true
   },
   "outputs": [],
   "source": [
    "#Store scores for model comparison\n",
    "scores = cross_validate(GNB_best_estimator, x_collision, y_collision, scoring=['accuracy','precision','recall']\n",
    "                            , cv=cv_collision, return_train_score=True)\n",
    "acc_gnb = scores['test_accuracy']\n",
    "pre_gnb = scores['test_precision']\n",
    "rec_gnb = scores['test_recall']"
   ]
  },
  {
   "cell_type": "markdown",
   "metadata": {},
   "source": [
    "### Bernoulli Naive Bayes"
   ]
  },
  {
   "cell_type": "code",
   "execution_count": 62,
   "metadata": {},
   "outputs": [
    {
     "name": "stdout",
     "output_type": "stream",
     "text": [
      "Fitting 10 folds for each of 40 candidates, totalling 400 fits\n"
     ]
    },
    {
     "name": "stderr",
     "output_type": "stream",
     "text": [
      "[Parallel(n_jobs=8)]: Done  88 tasks      | elapsed:    1.2s\n",
      "[Parallel(n_jobs=8)]: Done 400 out of 400 | elapsed:    3.9s finished\n"
     ]
    },
    {
     "data": {
      "text/plain": [
       "GridSearchCV(cv=StratifiedShuffleSplit(n_splits=10, random_state=1, test_size=0.2,\n",
       "            train_size=0.8),\n",
       "       error_score='raise',\n",
       "       estimator=BernoulliNB(alpha=1.0, binarize=0.0, class_prior=None, fit_prior=True),\n",
       "       fit_params=None, iid=True, n_jobs=8,\n",
       "       param_grid={'alpha': [0.001, 0.01, 1, 10], 'binarize': [0, 0.1, 0.2, 0.5, 1], 'fit_prior': [True, False]},\n",
       "       pre_dispatch='2*n_jobs', refit=True, return_train_score='warn',\n",
       "       scoring='accuracy', verbose=1)"
      ]
     },
     "execution_count": 62,
     "metadata": {},
     "output_type": "execute_result"
    }
   ],
   "source": [
    "#Naive Bayes Bernoulli 10-fold cross-validation \n",
    "from sklearn.naive_bayes import BernoulliNB\n",
    "Estimator = BernoulliNB()\n",
    "\n",
    "parameters = { 'alpha':[.001,.01,1,10],\n",
    "               'binarize':[0, 0.1, 0.2, 0.5, 1],\n",
    "               'fit_prior':[True,False]\n",
    "             }\n",
    "\n",
    "#Create a grid search object using the  \n",
    "from sklearn.model_selection import GridSearchCV\n",
    "regGridSearch = GridSearchCV(estimator=Estimator\n",
    "                   , n_jobs=8 # jobs to run in parallel\n",
    "                   , verbose=1 # low verbosity\n",
    "                   , param_grid=parameters\n",
    "                   , cv=cv_collision # KFolds = 10\n",
    "                   , scoring='accuracy')\n",
    "\n",
    "#Perform hyperparameter search to find the best combination of parameters for our data\n",
    "regGridSearch.fit(x_collision, y_collision)\n"
   ]
  },
  {
   "cell_type": "code",
   "execution_count": 63,
   "metadata": {},
   "outputs": [
    {
     "data": {
      "text/plain": [
       "BernoulliNB(alpha=0.001, binarize=1, class_prior=None, fit_prior=True)"
      ]
     },
     "execution_count": 63,
     "metadata": {},
     "output_type": "execute_result"
    }
   ],
   "source": [
    "#Display the best estimator parameters\n",
    "BNB_best_estimator = regGridSearch.best_estimator_\n",
    "BNB_best_estimator"
   ]
  },
  {
   "cell_type": "code",
   "execution_count": 64,
   "metadata": {},
   "outputs": [
    {
     "name": "stdout",
     "output_type": "stream",
     "text": [
      "The average accuracy for all cv folds is: \t\t\t 0.72159\n",
      "The average precision for all cv folds is: \t\t\t 0.61689\n",
      "The average recall for all cv folds is: \t\t\t 0.71514\n",
      "*********************************************************\n",
      "Cross Validation Fold Mean Error Scores\n"
     ]
    },
    {
     "data": {
      "text/html": [
       "<div>\n",
       "<style>\n",
       "    .dataframe thead tr:only-child th {\n",
       "        text-align: right;\n",
       "    }\n",
       "\n",
       "    .dataframe thead th {\n",
       "        text-align: left;\n",
       "    }\n",
       "\n",
       "    .dataframe tbody tr th {\n",
       "        vertical-align: top;\n",
       "    }\n",
       "</style>\n",
       "<table border=\"1\" class=\"dataframe\">\n",
       "  <thead>\n",
       "    <tr style=\"text-align: right;\">\n",
       "      <th></th>\n",
       "      <th>Accuracy</th>\n",
       "      <th>Precision</th>\n",
       "      <th>Recall</th>\n",
       "    </tr>\n",
       "  </thead>\n",
       "  <tbody>\n",
       "    <tr>\n",
       "      <th>0</th>\n",
       "      <td>0.725832</td>\n",
       "      <td>0.623003</td>\n",
       "      <td>0.714286</td>\n",
       "    </tr>\n",
       "    <tr>\n",
       "      <th>1</th>\n",
       "      <td>0.718993</td>\n",
       "      <td>0.613740</td>\n",
       "      <td>0.712658</td>\n",
       "    </tr>\n",
       "    <tr>\n",
       "      <th>2</th>\n",
       "      <td>0.734380</td>\n",
       "      <td>0.632718</td>\n",
       "      <td>0.725682</td>\n",
       "    </tr>\n",
       "    <tr>\n",
       "      <th>3</th>\n",
       "      <td>0.722101</td>\n",
       "      <td>0.616999</td>\n",
       "      <td>0.717949</td>\n",
       "    </tr>\n",
       "    <tr>\n",
       "      <th>4</th>\n",
       "      <td>0.717128</td>\n",
       "      <td>0.609488</td>\n",
       "      <td>0.721612</td>\n",
       "    </tr>\n",
       "    <tr>\n",
       "      <th>5</th>\n",
       "      <td>0.716661</td>\n",
       "      <td>0.611935</td>\n",
       "      <td>0.705332</td>\n",
       "    </tr>\n",
       "    <tr>\n",
       "      <th>6</th>\n",
       "      <td>0.718682</td>\n",
       "      <td>0.613231</td>\n",
       "      <td>0.713065</td>\n",
       "    </tr>\n",
       "    <tr>\n",
       "      <th>7</th>\n",
       "      <td>0.721635</td>\n",
       "      <td>0.616678</td>\n",
       "      <td>0.716321</td>\n",
       "    </tr>\n",
       "    <tr>\n",
       "      <th>8</th>\n",
       "      <td>0.721790</td>\n",
       "      <td>0.617554</td>\n",
       "      <td>0.713065</td>\n",
       "    </tr>\n",
       "    <tr>\n",
       "      <th>9</th>\n",
       "      <td>0.718682</td>\n",
       "      <td>0.613549</td>\n",
       "      <td>0.711437</td>\n",
       "    </tr>\n",
       "  </tbody>\n",
       "</table>\n",
       "</div>"
      ],
      "text/plain": [
       "   Accuracy  Precision    Recall\n",
       "0  0.725832   0.623003  0.714286\n",
       "1  0.718993   0.613740  0.712658\n",
       "2  0.734380   0.632718  0.725682\n",
       "3  0.722101   0.616999  0.717949\n",
       "4  0.717128   0.609488  0.721612\n",
       "5  0.716661   0.611935  0.705332\n",
       "6  0.718682   0.613231  0.713065\n",
       "7  0.721635   0.616678  0.716321\n",
       "8  0.721790   0.617554  0.713065\n",
       "9  0.718682   0.613549  0.711437"
      ]
     },
     "execution_count": 64,
     "metadata": {},
     "output_type": "execute_result"
    }
   ],
   "source": [
    "#Evaluate the regression estimator above using our pre-defined cross validation and scoring metrics. \n",
    "EvaluateClassifierEstimator(BNB_best_estimator, x_collision, y_collision, cv_collision)"
   ]
  },
  {
   "cell_type": "code",
   "execution_count": 65,
   "metadata": {
    "collapsed": true
   },
   "outputs": [],
   "source": [
    "#Store scores for model comparison\n",
    "scores = cross_validate(BNB_best_estimator, x_collision, y_collision, scoring=['accuracy','precision','recall']\n",
    "                            , cv=cv_collision, return_train_score=True)\n",
    "acc_bnb = scores['test_accuracy']\n",
    "pre_bnb = scores['test_precision']\n",
    "rec_bnb = scores['test_recall']"
   ]
  },
  {
   "cell_type": "markdown",
   "metadata": {},
   "source": [
    "## Model Comparison\n",
    "\n",
    "**Logistic Regression Model**    \n",
    "The average accuracy for all cv folds is: \t\t\t 0.7258    \n",
    "The average precision for all cv folds is: \t\t\t 0.68381    \n",
    "The average recall for all cv folds is: \t\t\t 0.5247    \n",
    "\n",
    "**KNN Model**    \n",
    "The average accuracy for all cv folds is: \t\t\t 0.73652    \n",
    "The average precision for all cv folds is: \t\t\t 0.68412    \n",
    "The average recall for all cv folds is: \t\t\t 0.57607    \n",
    "\n",
    "**GaussianNB Model**    \n",
    "The average accuracy for all cv folds is: \t\t\t 0.68809    \n",
    "The average precision for all cv folds is: \t\t\t 0.66191    \n",
    "The average recall for all cv folds is: \t\t\t 0.37473    \n",
    "\n",
    "**BernoulliNB Model**    \n",
    "The average accuracy for all cv folds is: \t\t\t 0.72159    \n",
    "The average precision for all cv folds is: \t\t\t 0.61689    \n",
    "The average recall for all cv folds is: \t\t\t 0.71514    \n",
    "\n",
    "The logistic regression, KNN, and Bernoulli NB models have very similar accuracies at approximately 73, 74, and 72%, respectively. The Gaussian NB model has the poorest accuracy at only 69%.  The KNN model has the highest precision although each model has very similar precision values.\n",
    "\n",
    "The Bernoulli NB model has the highest recall by a long shot: 0.715 vs the next highest recall of 0.576.  We will select the **Bernoulli NB model as our best model** because of the good accuracy and recall. Again, the ability to correctly identify relevant cases is a priority and gives more credibility to the Bernoulli NB model in this instance.\n",
    "\n",
    "Again, from a computational standpoint, the Logistic Regression model takes awhile to run, and the KNN model is once again extremely computational intensive, again taking over 8 minutes to run.  Both GaussianNB and BernoullNB are computationally friendly and make the BernoulliNB a good pick for our top model."
   ]
  },
  {
   "cell_type": "code",
   "execution_count": 66,
   "metadata": {},
   "outputs": [
    {
     "name": "stdout",
     "output_type": "stream",
     "text": [
      "95% Confidence interval for LogRegression: 0.722961699748 0.728639170628\n",
      "95% Confidence interval for KNN: 0.733062134598 0.739987290332\n",
      "95% Confidence interval for GaussianNB: 0.685553132336 0.690635863623\n",
      "95% Confidence interval for BernoulliNB: 0.718491050088 0.724685822775\n"
     ]
    }
   ],
   "source": [
    "# Confidence Intervals for each model accuracy\n",
    "mean_lr = np.mean(acc_lr)\n",
    "z_lr = 1.96 * np.std(acc_lr)/ np.sqrt(10)\n",
    "print ('95% Confidence interval for LogRegression:', mean_lr - z_lr, mean_lr + z_lr)\n",
    "\n",
    "mean_knn = np.mean(acc_knn)\n",
    "z_knn = 1.96 * np.std(acc_knn)/ np.sqrt(10)\n",
    "print ('95% Confidence interval for KNN:', mean_knn - z_knn, mean_knn + z_knn)\n",
    "\n",
    "mean_gnb = np.mean(acc_gnb)\n",
    "z_gnb = 1.96 * np.std(acc_gnb)/ np.sqrt(10)\n",
    "print ('95% Confidence interval for GaussianNB:', mean_gnb - z_gnb, mean_gnb + z_gnb)\n",
    "\n",
    "mean_bnb = np.mean(acc_bnb)\n",
    "z_bnb = 1.96 * np.std(acc_bnb)/ np.sqrt(10)\n",
    "print ('95% Confidence interval for BernoulliNB:', mean_bnb - z_bnb, mean_bnb + z_bnb)"
   ]
  },
  {
   "cell_type": "markdown",
   "metadata": {},
   "source": [
    "95% confidence intervals for LogRegression and BernoulliNB overlap and are therefore not significantly different.   KNN has the best accuracy and is significantly different that the other model accuracies with 95% confidence."
   ]
  },
  {
   "cell_type": "code",
   "execution_count": 67,
   "metadata": {},
   "outputs": [
    {
     "name": "stdout",
     "output_type": "stream",
     "text": [
      "95% Confidence interval for LogRegression recall: 0.520156097159 0.529253752251\n",
      "95% Confidence interval for KNN recall: 0.570968949379 0.581167802758\n",
      "95% Confidence interval for GaussianNB recall: 0.368141250469 0.381309298982\n",
      "95% Confidence interval for BernoulliNB recall: 0.711815823393 0.718465006888\n"
     ]
    }
   ],
   "source": [
    "# Confidence Intervals for each model recall\n",
    "mean_lr = np.mean(rec_lr)\n",
    "z_lr = 1.96 * np.std(rec_lr)/ np.sqrt(10)\n",
    "print ('95% Confidence interval for LogRegression recall:', mean_lr - z_lr, mean_lr + z_lr)\n",
    "\n",
    "mean_knn = np.mean(rec_knn)\n",
    "z_knn = 1.96 * np.std(rec_knn)/ np.sqrt(10)\n",
    "print ('95% Confidence interval for KNN recall:', mean_knn - z_knn, mean_knn + z_knn)\n",
    "\n",
    "mean_gnb = np.mean(rec_gnb)\n",
    "z_gnb = 1.96 * np.std(rec_gnb)/ np.sqrt(10)\n",
    "print ('95% Confidence interval for GaussianNB recall:', mean_gnb - z_gnb, mean_gnb + z_gnb)\n",
    "\n",
    "mean_bnb = np.mean(rec_bnb)\n",
    "z_bnb = 1.96 * np.std(rec_bnb)/ np.sqrt(10)\n",
    "print ('95% Confidence interval for BernoulliNB recall:', mean_bnb - z_bnb, mean_bnb + z_bnb)"
   ]
  },
  {
   "cell_type": "markdown",
   "metadata": {},
   "source": [
    "For recall, the BernoulliNB model is much better than any of the others, with none of the models overlapping at a 95% confidence level.  The BernoulliNB model was chosen for its significantly better recall."
   ]
  },
  {
   "cell_type": "markdown",
   "metadata": {},
   "source": [
    "## Feature Importance\n",
    "\n",
    "The features will be scaled to zero mean and unit variance for determining feature importance. "
   ]
  },
  {
   "cell_type": "code",
   "execution_count": 29,
   "metadata": {},
   "outputs": [
    {
     "name": "stdout",
     "output_type": "stream",
     "text": [
      "Number of mislabeled points out of a total 6434 points : 1885\n",
      "The accuracy for our scaled model is: 0.707025178738\n",
      "This is almost identical to our mean accuracy using cross validation.\n",
      "The confustion matrix is:\n",
      "[[3364  613]\n",
      " [1272 1185]]\n"
     ]
    }
   ],
   "source": [
    "#Scale our dataset to zero mean and unit variance for determining feature importance\n",
    "from sklearn.preprocessing import StandardScaler\n",
    "from sklearn.linear_model import LogisticRegression\n",
    "from sklearn.metrics import accuracy_score\n",
    "from sklearn import metrics as mt\n",
    "\n",
    "scaler = StandardScaler()\n",
    "bnb = BernoulliNB(alpha=0.001, binarize=1, class_prior=None, fit_prior=True)\n",
    "\n",
    "#Fit to data for scaling and scale x_train and x_test\n",
    "scaler.fit(x_collision_train) \n",
    "x_collision_train_scl = scaler.transform(x_collision_train)\n",
    "x_collision_test_scl = scaler.transform(x_collision_test)\n",
    "\n",
    "#Fit the scaled data to our chosen model\n",
    "bnb.fit(x_collision_train_scl,y_collision_train)\n",
    "y_hat = bnb.predict(x_collision_test_scl)\n",
    "acc = accuracy_score(y_collision_test, y_hat, sample_weight=None)\n",
    "conf = mt.confusion_matrix(y_collision_test,y_hat)\n",
    "print(\"Number of mislabeled points out of a total %d points : %d\"\n",
    "       % (x_collision_test.shape[0],(y_collision_test != y_hat).sum()))\n",
    "print('The accuracy for our scaled model is:', acc)\n",
    "print('This is almost identical to our mean accuracy using cross validation.')\n",
    "print('The confustion matrix is:')\n",
    "print(conf)\n"
   ]
  },
  {
   "cell_type": "code",
   "execution_count": 31,
   "metadata": {},
   "outputs": [
    {
     "name": "stdout",
     "output_type": "stream",
     "text": [
      "\n",
      "This provides the Feature probability, given there was/was not a collision\n"
     ]
    },
    {
     "data": {
      "text/html": [
       "<div>\n",
       "<style>\n",
       "    .dataframe thead tr:only-child th {\n",
       "        text-align: right;\n",
       "    }\n",
       "\n",
       "    .dataframe thead th {\n",
       "        text-align: left;\n",
       "    }\n",
       "\n",
       "    .dataframe tbody tr th {\n",
       "        vertical-align: top;\n",
       "    }\n",
       "</style>\n",
       "<table border=\"1\" class=\"dataframe\">\n",
       "  <thead>\n",
       "    <tr style=\"text-align: right;\">\n",
       "      <th></th>\n",
       "      <th>No Collision</th>\n",
       "      <th>Collision</th>\n",
       "    </tr>\n",
       "    <tr>\n",
       "      <th>Features</th>\n",
       "      <th></th>\n",
       "      <th></th>\n",
       "    </tr>\n",
       "  </thead>\n",
       "  <tbody>\n",
       "    <tr>\n",
       "      <th>SCH_BUS</th>\n",
       "      <td>0.001195</td>\n",
       "      <td>0.006716</td>\n",
       "    </tr>\n",
       "    <tr>\n",
       "      <th>SP_JUR</th>\n",
       "      <td>0.011947</td>\n",
       "      <td>0.009565</td>\n",
       "    </tr>\n",
       "    <tr>\n",
       "      <th>WRK_ZONE</th>\n",
       "      <td>0.016914</td>\n",
       "      <td>0.024522</td>\n",
       "    </tr>\n",
       "    <tr>\n",
       "      <th>LONGITUD</th>\n",
       "      <td>0.076962</td>\n",
       "      <td>0.056166</td>\n",
       "    </tr>\n",
       "    <tr>\n",
       "      <th>FATALS</th>\n",
       "      <td>0.047032</td>\n",
       "      <td>0.114062</td>\n",
       "    </tr>\n",
       "    <tr>\n",
       "      <th>weather</th>\n",
       "      <td>0.117140</td>\n",
       "      <td>0.117216</td>\n",
       "    </tr>\n",
       "    <tr>\n",
       "      <th>LATITUDE</th>\n",
       "      <td>0.122548</td>\n",
       "      <td>0.128714</td>\n",
       "    </tr>\n",
       "    <tr>\n",
       "      <th>lapseTime</th>\n",
       "      <td>0.094442</td>\n",
       "      <td>0.171958</td>\n",
       "    </tr>\n",
       "    <tr>\n",
       "      <th>TOT_PERS</th>\n",
       "      <td>0.071869</td>\n",
       "      <td>0.188543</td>\n",
       "    </tr>\n",
       "    <tr>\n",
       "      <th>light</th>\n",
       "      <td>0.346454</td>\n",
       "      <td>0.207265</td>\n",
       "    </tr>\n",
       "    <tr>\n",
       "      <th>ROUTE</th>\n",
       "      <td>0.276849</td>\n",
       "      <td>0.208283</td>\n",
       "    </tr>\n",
       "    <tr>\n",
       "      <th>DRUNK</th>\n",
       "      <td>0.304074</td>\n",
       "      <td>0.233008</td>\n",
       "    </tr>\n",
       "    <tr>\n",
       "      <th>RUSH_HR</th>\n",
       "      <td>0.239625</td>\n",
       "      <td>0.308506</td>\n",
       "    </tr>\n",
       "    <tr>\n",
       "      <th>intersetion</th>\n",
       "      <td>0.146693</td>\n",
       "      <td>0.407102</td>\n",
       "    </tr>\n",
       "    <tr>\n",
       "      <th>NHS</th>\n",
       "      <td>0.353056</td>\n",
       "      <td>0.452279</td>\n",
       "    </tr>\n",
       "    <tr>\n",
       "      <th>RUR_URB</th>\n",
       "      <td>0.468121</td>\n",
       "      <td>0.484127</td>\n",
       "    </tr>\n",
       "  </tbody>\n",
       "</table>\n",
       "</div>"
      ],
      "text/plain": [
       "             No Collision  Collision\n",
       "Features                            \n",
       "SCH_BUS          0.001195   0.006716\n",
       "SP_JUR           0.011947   0.009565\n",
       "WRK_ZONE         0.016914   0.024522\n",
       "LONGITUD         0.076962   0.056166\n",
       "FATALS           0.047032   0.114062\n",
       "weather          0.117140   0.117216\n",
       "LATITUDE         0.122548   0.128714\n",
       "lapseTime        0.094442   0.171958\n",
       "TOT_PERS         0.071869   0.188543\n",
       "light            0.346454   0.207265\n",
       "ROUTE            0.276849   0.208283\n",
       "DRUNK            0.304074   0.233008\n",
       "RUSH_HR          0.239625   0.308506\n",
       "intersetion      0.146693   0.407102\n",
       "NHS              0.353056   0.452279\n",
       "RUR_URB          0.468121   0.484127"
      ]
     },
     "execution_count": 31,
     "metadata": {},
     "output_type": "execute_result"
    }
   ],
   "source": [
    "prob_log = pd.DataFrame(bnb.feature_log_prob_.T) #log probability\n",
    "prob = np.exp(prob_log)                          #probability\n",
    "features = pd.DataFrame(x_collision_df.columns)  #feature names\n",
    "\n",
    "feature_prob = pd.concat([features, prob], axis=1)   #create single dataframe\n",
    "feature_prob.columns = ['Features', 'No Collision', 'Collision']  #rename columns\n",
    "feature_prob = feature_prob.set_index('Features')    #set the index to feature names\n",
    "feature_prob.sort_values(by='Collision', inplace=True) #sort by collision probability\n",
    "\n",
    "print('\\nThis provides the Feature probability, given there was/was not a collision')\n",
    "feature_prob"
   ]
  },
  {
   "cell_type": "markdown",
   "metadata": {},
   "source": [
    "The table above gives the probability of each feature given there was or was not a collision. For example, in the case of an accident involving a collision between vehicles (collision=1), the probability of it occuring during rush hour (RUSH_HR) is 30.9%. On the other hand, if there is an accident not involving a collision (collision=0), there is only a 24% probability that it occurs during rush hour. This seems to follow logically, since there are more vehicles on the road during rush hour, increasing the chance of collision.\n",
    "\n",
    "In addition, there is a higher probability of accidents at intersections when there is a collision, as well as a higher probability that you are on a national highway system (NHS) if a collision occurs. "
   ]
  },
  {
   "cell_type": "markdown",
   "metadata": {},
   "source": [
    "As before, the graphs below show the coefficients found by our logistic regression model which, although it is not the model that we chose as the best, still gives insight into the features that may possibly differ between accidents involving a collision and those that do not."
   ]
  },
  {
   "cell_type": "code",
   "execution_count": 82,
   "metadata": {},
   "outputs": [
    {
     "data": {
      "image/png": "[encoded data removed]",
      "text/plain": [
       "<matplotlib.figure.Figure at 0x1a12381b70>"
      ]
     },
     "metadata": {},
     "output_type": "display_data"
    }
   ],
   "source": [
    "#\n",
    "bnb = LogisticRegression()\n",
    "bnb.fit(x_collision_train_scl,y_collision_train)\n",
    "y_hat = bnb.predict(x_collision_test_scl)\n",
    "\n",
    "#Load the model's coefficient weights and feature names into a dataframe sorted by weights\n",
    "weights = bnb.coef_.T.flatten()\n",
    "#print(weights)\n",
    "feature_names = x_collision_df.columns\n",
    "#print(feature_names)\n",
    "bnb_ft_imp_df = pd.DataFrame({'feature_names':feature_names, 'weights':weights, 'absolute_weights': np.abs(weights)})\n",
    "bnb_ft_imp_df.sort_values(by='weights', inplace=True)\n",
    "\n",
    "#Plot the model's feature importances\n",
    "# REFERENCE:  Eric Larson, https://github.com/eclarson/DataMiningNotebooks\n",
    "plt.style.use('ggplot')\n",
    "\n",
    "wt_plt_df = bnb_ft_imp_df.head(4)\n",
    "\n",
    "weights = pd.Series(wt_plt_df['weights'].values,index=wt_plt_df['feature_names'])\n",
    "ax = weights.plot(kind='bar')\n",
    "\n",
    "ax.set_title(\"Negative Correlations\")\n",
    "ax.set_ylabel(\"Coefficient Magnitude\\n(z-score)\")\n",
    "ax.set_xlabel(\"Feature Names\")\n",
    "plt.show()\n",
    "\n",
    "# sort these attributes and spit them out\n",
    "# zip_vars = zip(lr.coef_.T,x_fatals_df.columns) # combine attributes\n",
    "# for coef, name in sorted(zip_vars):\n",
    "#     print(name, 'has weight of', coef[0]) # now print them out"
   ]
  },
  {
   "cell_type": "code",
   "execution_count": 78,
   "metadata": {
    "scrolled": true
   },
   "outputs": [
    {
     "data": {
      "image/png": "[encoded data removed]",
      "text/plain": [
       "<matplotlib.figure.Figure at 0x1a1235bf28>"
      ]
     },
     "metadata": {},
     "output_type": "display_data"
    }
   ],
   "source": [
    "#Plot the model's feature importances\n",
    "# REFERENCE:  Eric Larson, https://github.com/eclarson/DataMiningNotebooks\n",
    "plt.style.use('ggplot')\n",
    "\n",
    "wt_plt_df = bnb_ft_imp_df.tail(12)\n",
    "\n",
    "weights = pd.Series(wt_plt_df['weights'].values,index=wt_plt_df['feature_names'])\n",
    "ax = weights.plot(kind='bar')\n",
    "\n",
    "ax.set_title(\"Positive Correlations\")\n",
    "ax.set_ylabel(\"Coefficient Magnitude\\n(z-score)\")\n",
    "ax.set_xlabel(\"Feature Names\")\n",
    "plt.show()\n"
   ]
  },
  {
   "cell_type": "markdown",
   "metadata": {},
   "source": [
    "The plots above show both the negative and positive coorelations of key features.  Total persons (TOT_PERS) and intersection are strong positive correlations to collisions.  Poor lighting (lighting) and smaller routes (ROUTE) are the two most negatively coorelated features to collisions."
   ]
  },
  {
   "cell_type": "code",
   "execution_count": 125,
   "metadata": {},
   "outputs": [
    {
     "data": {
      "image/png": "[encoded data removed]",
      "text/plain": [
       "<matplotlib.figure.Figure at 0x1a1dee8f98>"
      ]
     },
     "metadata": {},
     "output_type": "display_data"
    }
   ],
   "source": [
    "# Visualize the Accuracy of the GaussianNB \n",
    "\n",
    "def per_class_accuracy(ytrue,y_hat):\n",
    "    conf = mt.confusion_matrix(ytrue,y_hat)\n",
    "    norm_conf = conf.astype('float') / conf.sum(axis=1)[:, np.newaxis]\n",
    "    return np.diag(norm_conf)\n",
    "\n",
    "def plot_class_acc(ytrue,y_hat, title=''):\n",
    "    acc_list = per_class_accuracy(ytrue,y_hat)\n",
    "    plt.bar(range(len(acc_list)), acc_list)\n",
    "    plt.xlabel('Class value')\n",
    "    plt.ylabel('Accuracy within class')\n",
    "    plt.title(title+\", Total Acc=%.1f\"%(100*mt.accuracy_score(ytrue,y_hat)))\n",
    "    plt.grid()\n",
    "    plt.ylim([0,1])\n",
    "    plt.show()\n",
    "\n",
    "\n",
    "plot_class_acc(y_collision_test,y_hat,title=\"BernoulliNB\")"
   ]
  },
  {
   "cell_type": "markdown",
   "metadata": {},
   "source": [
    "With the nature of our classifications, the bar chart above looks better due to the fact that collision is a better representation of a binary variable than the number of fatalities. Collision was not perfectly split but it was approximately 60/40 as opposed to the 90/10 of our fatalities variable."
   ]
  },
  {
   "cell_type": "code",
   "execution_count": 126,
   "metadata": {},
   "outputs": [
    {
     "name": "stdout",
     "output_type": "stream",
     "text": [
      "Total Accuracy: 0.707025178738\n"
     ]
    }
   ],
   "source": [
    "from sklearn import metrics as mt\n",
    "\n",
    "# get various measures of performance\n",
    "total_accuracy = mt.accuracy_score(y_collision_test,y_hat)\n",
    "per_class_acc_list = per_class_accuracy(y_collision_test,y_hat)\n",
    "\n",
    "rec_tot = []\n",
    "prec_tot = []\n",
    "\n",
    "for cls in np.unique(y_collision_test):\n",
    "    idx = (y_collision_test==cls) # get classes\n",
    "    ytmp_actual = np.zeros(y_collision_test.shape) # make binary class problem\n",
    "    ytmp_actual[idx] = 1          # set the instances for this specific class\n",
    "    \n",
    "    ytmp_predicted = np.zeros(y_collision_test.shape) # binary prediction array\n",
    "    ytmp_predicted[y_hat==cls] = 1 \n",
    "    \n",
    "    num_in_class = sum(idx)\n",
    "    \n",
    "    rec = mt.recall_score(ytmp_actual, ytmp_predicted)\n",
    "    prec = mt.precision_score(ytmp_actual, ytmp_predicted)\n",
    "    rec_tot.append(rec)\n",
    "    prec_tot.append(prec)\n",
    "        \n",
    "print ('Total Accuracy:',total_accuracy)"
   ]
  },
  {
   "cell_type": "code",
   "execution_count": 127,
   "metadata": {},
   "outputs": [
    {
     "data": {
      "image/png": "[encoded data removed]",
      "text/plain": [
       "<matplotlib.figure.Figure at 0x1a13ce5f28>"
      ]
     },
     "metadata": {},
     "output_type": "display_data"
    }
   ],
   "source": [
    "# But we can really summarize this data much better than this. \n",
    "# How about looking at more statistics of the precision and recall for each class?\n",
    "\n",
    "import seaborn as sns\n",
    "sns.set_palette(\"dark\")\n",
    "plt.figure(figsize=(15,5))\n",
    "plt.boxplot([ rec_tot, prec_tot],\n",
    "            labels=['Recall, all collisions','Precision, all collisions'])\n",
    "plt.ylim([0,1])\n",
    "plt.show()"
   ]
  },
  {
   "cell_type": "markdown",
   "metadata": {},
   "source": [
    "The box and whisker plots shown here provide a quick view of the statistical composition of the precision and recall of our chosen model. The ends represent the floor (lowest) and ceiling (highest) values. The top and bottom of the boxes represent the values at 25% and 75% of our plotted data, while the median value is shown by the center line."
   ]
  },
  {
   "cell_type": "markdown",
   "metadata": {},
   "source": [
    "# Deployment\n",
    "\n",
    "The prediction of multi-fatality accidents could be valuable to many government agencies when determining the variables that lead to this catastrophic outcome. Understanding the primary factors that contribute the most to loss of life in motor vehicle accidents, prevention programs can be established to educate and address these causes. Most people would speculate that drunk driving leads to more fatalities, and the model confirms that multiple fatalities are strongly correlated to drunk driving. Vehicle collisions are the second greatest factor in multiple fatality accidents. This information can be used in defensive driving training to stress collision avoidance as a means of staying alive.\n",
    "\n",
    "Following that, the identification of factors involved in vehicle collisions can be further utilized in defensive driving and driver's education courses. For exapmle, there is a higher probability that a work zone will be involved when the accident involves a collision of more than one vehicle. One possible application of this information could be to offer more training in driver's education courses surrounding appropriate modification of driving behavior when approaching or driving through a work zone. Further, the allocation of more funds to allow for extra signage in work zones or additional lights identifying work-zone vehicles--which are often slow-moving and can be involved in accidents with other, faster vehicles.\n",
    "\n",
    "Currently, datasets regarding traffic fatalities are released each year and could be used to update these models accordingly. While it would be helpful to do this more often, it is likely infeasible due to the time-consuming nature and difficulty of collecting all of this information.\n"
   ]
  },
  {
   "cell_type": "markdown",
   "metadata": {},
   "source": [
    "# Exceptional Work\n"
   ]
  },
  {
   "cell_type": "markdown",
   "metadata": {
    "collapsed": true
   },
   "source": [
    "For exceptional work, we utilized a **grid search** for each of the models above to determine the best set of parameters for each.  Additionally, a function for classifier estimation was used to compare each model using accuracy, precision, and recall.\n",
    "\n",
    "Additionally, **new features** were developed from the dataset.  The feature RUSH_HR was created to determine if rush hour traffic was a key factor in fatalities and collisions.  The feature lapseTime represents the time between the crash occuring and when EMS delivers the victim to the hospital, and was also a factor in determining whether a collision occurred.\n",
    "\n",
    "**New ordinal variables** were also created for lighting condition and weather condition.  The original variables for lighting (LGT_COND) was reordered to represent a new ordinal variable (light) to scale from lightest to darkest conditions.  Similarly, the original variable for weather condition (WEATHER) was reordered to represent a new ordinal variable (weather) to scale from best to worst weather conditions.\n"
   ]
  }
 ],
 "metadata": {
  "anaconda-cloud": {},
  "kernelspec": {
   "display_name": "Python 2",
   "language": "python",
   "name": "python2"
  },
  "language_info": {
   "codemirror_mode": {
    "name": "ipython",
    "version": 2
   },
   "file_extension": ".py",
   "mimetype": "text/x-python",
   "name": "python",
   "nbconvert_exporter": "python",
   "pygments_lexer": "ipython2",
   "version": "2.7.13"
  }
 },
 "nbformat": 4,
 "nbformat_minor": 1
}
